{
 "cells": [
  {
   "cell_type": "code",
   "execution_count": 2,
   "metadata": {},
   "outputs": [
    {
     "name": "stdout",
     "output_type": "stream",
     "text": [
      "|    |         0 |         1 |         2 |\n",
      "|---:|----------:|----------:|----------:|\n",
      "|  0 | -1.34436  | -0.393568 |  1.40062  |\n",
      "|  1 | -0.66615  |  0.70062  | -0.443915 |\n",
      "|  2 |  0.312308 |  0.200198 | -0.857731 |\n",
      "|  3 |  1.41131  |  1.10671  |  1.0871   |\n",
      "|  4 |  2.95029  | -0.459737 |  0.85061  |\n",
      "|  5 |  1.83082  | -0.593972 |  1.22476  |\n",
      "|  6 | -0.616649 | -0.573936 |  0.377518 |\n",
      "|  7 |  0.9025   |  1.41929  | -1.82243  |\n"
     ]
    }
   ],
   "source": [
    "# How to turn python and numpy arrays into tables...\n",
    "# using pandas\n",
    "\n",
    "\n",
    "import ipywidgets as widgets\n",
    "from IPython import display\n",
    "import pandas as pd\n",
    "import numpy as np\n",
    "import matplotlib.pyplot as plt\n",
    "\n",
    "from tabulate import tabulate\n",
    "\n",
    "\n",
    "# sample data\n",
    "df1 = pd.DataFrame(np.random.randn(8, 3))\n",
    "df2 = pd.DataFrame(np.random.randn(8, 3))\n",
    "\n",
    "# Convert table to ACSCII markdown repr...\n",
    "print(tabulate(df1, tablefmt=\"pipe\", headers=\"keys\"))\n"
   ]
  },
  {
   "cell_type": "code",
   "execution_count": 2,
   "metadata": {},
   "outputs": [],
   "source": [
    "# Results from dual annealling\n",
    "\n",
    "# oof, that's hot \n",
    "x = np.array([2.77953638, 1.43922527, 1.11429933, 1.77685259, 5.44766417])\n",
    "x = np.vstack( ( x, np.array([2.77741604, 1.44219872, 1.11535155, 1.77471314, 5.44791252]) ) )\n",
    "x = np.vstack( (x , np.array([3.19587308e+00, 6.61927150e-01, 1.88541235e+00, 1.96975215e-06,\n",
    "             6.06967859e+00]) ))\n",
    "x = np.vstack( (x , np.array([2.7781778 , 1.44113483, 1.11442007, 1.77540688, 5.44776668]) ))\n"
   ]
  },
  {
   "cell_type": "code",
   "execution_count": 3,
   "metadata": {},
   "outputs": [],
   "source": [
    "real_k = np.array([2.77777778, 1.44444444, 1.11111111, 1.77777778, 5.44444444])\n",
    "\n",
    "\n",
    "(x - real_k).shape\n",
    "\n",
    "sup_err = np.max(np.abs(x - real_k), axis=1).reshape(-1,1)\n"
   ]
  },
  {
   "cell_type": "code",
   "execution_count": 7,
   "metadata": {},
   "outputs": [
    {
     "name": "stdout",
     "output_type": "stream",
     "text": [
      "|    |      k1 |       k2 |      k3 |          k4 |      k5 |   Error (sup norm) | Execution time   |\n",
      "|---:|--------:|---------:|--------:|------------:|--------:|-------------------:|:-----------------|\n",
      "|  0 | 2.77954 | 1.43923  | 1.1143  | 1.77685     | 5.44766 |         0.00521917 | 1 min 8s         |\n",
      "|  1 | 2.77742 | 1.4422   | 1.11535 | 1.77471     | 5.44791 |         0.00424044 | 1 min 58s        |\n",
      "|  2 | 3.19587 | 0.661927 | 1.88541 | 1.96975e-06 | 6.06968 |         1.77778    | 4 min 5s         |\n",
      "|  3 | 2.77818 | 1.44113  | 1.11442 | 1.77541     | 5.44777 |         0.00332224 | 3min 50s         |\n"
     ]
    }
   ],
   "source": [
    "# Add times \n",
    "\n",
    "t = np.array([\n",
    "    '1 min 8s',\n",
    "    '1 min 58s',\n",
    "    '4 min 5s',\n",
    "    '3min 50s'  \n",
    "]).reshape(-1, 1)\n",
    "\n",
    "\n",
    "dat = np.hstack( (x, sup_err, t) )\n",
    "\n",
    "\n",
    "# headings \n",
    "hd = np.array([\n",
    "    'k1',\n",
    "    'k2',\n",
    "    'k3',\n",
    "    'k4',\n",
    "    'k5',\n",
    "    'Error (sup norm)',\n",
    "    'Execution time'\n",
    "])\n",
    "\n",
    "df = pd.DataFrame(dat, columns=hd)\n",
    "\n",
    "\n",
    "print(tabulate(df, tablefmt=\"pipe\", headers=\"keys\"))"
   ]
  },
  {
   "cell_type": "markdown",
   "metadata": {},
   "source": [
    "# Results for NLS"
   ]
  },
  {
   "cell_type": "code",
   "execution_count": 21,
   "metadata": {},
   "outputs": [
    {
     "name": "stdout",
     "output_type": "stream",
     "text": [
      "(2, 5)\n",
      "(2, 1)\n",
      "|    |      k1 |      k2 |      k3 |       k4 |        k5 |   Error (sup norm) |   Upper bound | Execution time   |\n",
      "|---:|--------:|--------:|--------:|---------:|----------:|-------------------:|--------------:|:-----------------|\n",
      "|  0 | 8.73992 | 24.0767 | 7.08632 | 5.30664  | 0.0920452 |           22.6322  |            50 | 3m 1s            |\n",
      "|  1 | 2.6071  |  6.5433 | 4.59483 | 0.350083 | 5.90575   |            5.09885 |            10 | 1m 41s           |\n"
     ]
    }
   ],
   "source": [
    "x1 = np.array([2.60710203, 6.54329898, 4.59483172, 0.35008292, 5.90575368])\n",
    "x1 = np.vstack( (x1, np.array([ 8.73992488, 24.07668051,  7.08632296,  5.30663675,  0.0920452 \n",
    "                              ])) )\n",
    "\n",
    "x1 = np.flip(x1, 0)\n",
    "\n",
    "\n",
    "sup_err = np.max(np.abs(x1 - real_k), axis=1).reshape(-1,1)\n",
    "\n",
    "\n",
    "upper_bounds = np.array([\n",
    "    50,\n",
    "    10\n",
    "]).reshape(-1,1)\n",
    "\n",
    "t1 = np.array(['3m 1s',\n",
    "      '1m 41s']).reshape(-1, 1)\n",
    "\n",
    "dat_nls = np.hstack( (\n",
    "    x1,\n",
    "    sup_err,\n",
    "    upper_bounds,\n",
    "    t1\n",
    "))\n",
    "\n",
    "# headings \n",
    "hd_nls = np.array([\n",
    "    'k1',\n",
    "    'k2',\n",
    "    'k3',\n",
    "    'k4',\n",
    "    'k5',\n",
    "    'Error (sup norm)',\n",
    "    'Upper bound',\n",
    "    'Execution time'\n",
    "])\n",
    "\n",
    "df1 = pd.DataFrame(dat_nls, columns=hd_nls)\n",
    "\n",
    "print(tabulate(df1, tablefmt=\"pipe\", headers=\"keys\"))"
   ]
  },
  {
   "cell_type": "code",
   "execution_count": 20,
   "metadata": {},
   "outputs": [
    {
     "data": {
      "text/html": [
       "<div>\n",
       "<style scoped>\n",
       "    .dataframe tbody tr th:only-of-type {\n",
       "        vertical-align: middle;\n",
       "    }\n",
       "\n",
       "    .dataframe tbody tr th {\n",
       "        vertical-align: top;\n",
       "    }\n",
       "\n",
       "    .dataframe thead th {\n",
       "        text-align: right;\n",
       "    }\n",
       "</style>\n",
       "<table border=\"1\" class=\"dataframe\">\n",
       "  <thead>\n",
       "    <tr style=\"text-align: right;\">\n",
       "      <th></th>\n",
       "      <th>k1</th>\n",
       "      <th>k2</th>\n",
       "      <th>k3</th>\n",
       "      <th>k4</th>\n",
       "      <th>k5</th>\n",
       "      <th>Error (sup norm)</th>\n",
       "      <th>Upper bound</th>\n",
       "      <th>Execution time</th>\n",
       "    </tr>\n",
       "  </thead>\n",
       "  <tbody>\n",
       "    <tr>\n",
       "      <th>0</th>\n",
       "      <td>8.73992488</td>\n",
       "      <td>24.07668051</td>\n",
       "      <td>7.08632296</td>\n",
       "      <td>5.30663675</td>\n",
       "      <td>0.0920452</td>\n",
       "      <td>22.632236069999998</td>\n",
       "      <td>50</td>\n",
       "      <td>3m 1s</td>\n",
       "    </tr>\n",
       "    <tr>\n",
       "      <th>1</th>\n",
       "      <td>2.60710203</td>\n",
       "      <td>6.54329898</td>\n",
       "      <td>4.59483172</td>\n",
       "      <td>0.35008292</td>\n",
       "      <td>5.90575368</td>\n",
       "      <td>5.0988545400000005</td>\n",
       "      <td>10</td>\n",
       "      <td>1m 41s</td>\n",
       "    </tr>\n",
       "  </tbody>\n",
       "</table>\n",
       "</div>"
      ],
      "text/plain": [
       "           k1           k2          k3          k4          k5  \\\n",
       "0  8.73992488  24.07668051  7.08632296  5.30663675   0.0920452   \n",
       "1  2.60710203   6.54329898  4.59483172  0.35008292  5.90575368   \n",
       "\n",
       "     Error (sup norm) Upper bound Execution time  \n",
       "0  22.632236069999998          50          3m 1s  \n",
       "1  5.0988545400000005          10         1m 41s  "
      ]
     },
     "execution_count": 20,
     "metadata": {},
     "output_type": "execute_result"
    }
   ],
   "source": [
    "df1"
   ]
  },
  {
   "cell_type": "markdown",
   "metadata": {},
   "source": [
    "# Data for SDE notebook."
   ]
  },
  {
   "cell_type": "code",
   "execution_count": 3,
   "metadata": {},
   "outputs": [],
   "source": [
    "x3 = np.array([1.01936282, 0.01149192])\n",
    "x3 = np.vstack( (x3, np.array([0.9986141 , 0.02276752])))\n",
    "x3 = np.vstack( (x3, np.array([0.97693651, 0.10866725])))\n",
    "\n",
    "# real values \n",
    "real_vals = np.array([1., 0.1])\n",
    "\n",
    "errors = np.abs(x3 - real_vals)"
   ]
  },
  {
   "cell_type": "code",
   "execution_count": 6,
   "metadata": {},
   "outputs": [],
   "source": [
    "t3 = [\n",
    "    '5min 6s',\n",
    "    '2min 42s',\n",
    "    '2min 59s'\n",
    "]\n",
    "\n",
    "dat3 = np.hstack((\n",
    "    x3,\n",
    "    errors,\n",
    "    np.array(t3).reshape(-1,1)\n",
    "))\n",
    "\n",
    "hd3 = [\n",
    "    '$\\mu$',\n",
    "    '$\\sigma$',\n",
    "    'Error in $\\mu$',\n",
    "    'Error in $\\sigma$',\n",
    "    'Execution time'\n",
    "]\n",
    "\n",
    "df2 = pd.DataFrame(dat3, columns=hd3)"
   ]
  },
  {
   "cell_type": "code",
   "execution_count": 7,
   "metadata": {},
   "outputs": [
    {
     "name": "stdout",
     "output_type": "stream",
     "text": [
      "|    |    $\\mu$ |   $\\sigma$ |   Error in $\\mu$ |   Error in $\\sigma$ | Execution time   |\n",
      "|---:|---------:|-----------:|-----------------:|--------------------:|:-----------------|\n",
      "|  0 | 1.01936  |  0.0114919 |        0.0193628 |          0.0885081  | 5min 6s          |\n",
      "|  1 | 0.998614 |  0.0227675 |        0.0013859 |          0.0772325  | 2min 42s         |\n",
      "|  2 | 0.976937 |  0.108667  |        0.0230635 |          0.00866725 | 2min 59s         |\n"
     ]
    }
   ],
   "source": [
    "print(tabulate(df2, tablefmt=\"pipe\", headers=\"keys\"))"
   ]
  },
  {
   "cell_type": "code",
   "execution_count": null,
   "metadata": {},
   "outputs": [],
   "source": []
  }
 ],
 "metadata": {
  "kernelspec": {
   "display_name": "Python 3",
   "language": "python",
   "name": "python3"
  },
  "language_info": {
   "codemirror_mode": {
    "name": "ipython",
    "version": 3
   },
   "file_extension": ".py",
   "mimetype": "text/x-python",
   "name": "python",
   "nbconvert_exporter": "python",
   "pygments_lexer": "ipython3",
   "version": "3.6.8"
  }
 },
 "nbformat": 4,
 "nbformat_minor": 2
}
