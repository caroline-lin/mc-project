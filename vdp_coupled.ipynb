{
 "cells": [
  {
   "cell_type": "code",
   "execution_count": 1,
   "metadata": {},
   "outputs": [],
   "source": [
    "import numpy as np\n",
    "import matplotlib.pyplot as plt\n",
    "\n",
    "from scipy.integrate import solve_ivp\n",
    "from scipy.optimize import dual_annealing\n",
    "from scipy.optimize import least_squares"
   ]
  },
  {
   "cell_type": "code",
   "execution_count": 2,
   "metadata": {},
   "outputs": [
    {
     "data": {
      "text/plain": [
       "'\\nMarch 24, 2019:\\nCan I adapt the code for the coupled harmonic oscillators\\ninto a code for coupled van-der-pol oscillators?\\n\\nAlso, what do coupled van-der-pol oscillators look like, when animated?\\n'"
      ]
     },
     "execution_count": 2,
     "metadata": {},
     "output_type": "execute_result"
    }
   ],
   "source": [
    "'''\n",
    "March 24, 2019:\n",
    "Can I adapt the code for the coupled harmonic oscillators\n",
    "into a code for coupled van-der-pol oscillators?\n",
    "\n",
    "Also, what do coupled van-der-pol oscillators look like, when animated?\n",
    "'''"
   ]
  },
  {
   "cell_type": "code",
   "execution_count": 3,
   "metadata": {},
   "outputs": [
    {
     "data": {
      "text/plain": [
       "'\\nCode for the coupled harmonic oscillators...\\n'"
      ]
     },
     "execution_count": 3,
     "metadata": {},
     "output_type": "execute_result"
    }
   ],
   "source": [
    "'''\n",
    "Code for the coupled harmonic oscillators...\n",
    "'''"
   ]
  },
  {
   "cell_type": "code",
   "execution_count": 4,
   "metadata": {},
   "outputs": [
    {
     "data": {
      "text/plain": [
       "array([ 0. , -0.8, -0.4,  0. ,  0. ,  0. ,  0. ])"
      ]
     },
     "execution_count": 4,
     "metadata": {},
     "output_type": "execute_result"
    }
   ],
   "source": [
    "\n",
    "# Adapting coupled springs.\n",
    "# From personal notebook, March 24\n",
    "\n",
    "N = 5 # number of masses (may accidentally call this the number of springs)\n",
    "\n",
    "''' Changed the value of d so the oscillators do not move past each other.'''\n",
    "d = 6. # distance between rest positions (uniform)\n",
    "k = np.pi # spring const\n",
    "\n",
    "# generalize to allow different spring constants on different springs..\n",
    "K = np.ones(N) * k\n",
    "\n",
    "x0 = 0. # LHS resting board is at position x0\n",
    "\n",
    "# set rest positions of springs + boards\n",
    "R = np.arange(0, d *(N + 1 + 1), d, dtype=np.float_)\n",
    "\n",
    "# set initial positions of springs\n",
    "X = np.copy(R)\n",
    "X[1] -= 0.8 \n",
    "X[2] -= 0.4\n",
    "\n",
    "DX = X - R\n",
    "\n",
    "''' Think that my acceleration formula changes quite a bit '''\n",
    "MU = np.ones(N)\n",
    "F_accel = lambda DX, XV: -K * (DX[1:-1] - DX[:-2]) + K * (DX[2:] - DX[1:-1]) + MU * (1 - np.power(DX[1:-1], 2)) * XV[N:]\n",
    "\n",
    "# old formula (springs)\n",
    "#F_accel = lambda DX: -K * (DX[1:-1] - DX[:-2]) + K * (DX[2:] - DX[1:-1])\n",
    "\n",
    "\n",
    "\n",
    "DX\n",
    "\n",
    "# old.\n",
    "# F_accel(DX) # looks okay."
   ]
  },
  {
   "cell_type": "code",
   "execution_count": 5,
   "metadata": {},
   "outputs": [],
   "source": [
    "# Set up the linear system.\n",
    "XV = np.zeros(2 * N)\n",
    "\n",
    "# Initial conditions?\n",
    "XV[:N] = X[1:-1] # Initial positions of the springs\n",
    "XV[N:] = np.zeros(N) # initial velocities of the springs"
   ]
  },
  {
   "cell_type": "code",
   "execution_count": 6,
   "metadata": {},
   "outputs": [
    {
     "data": {
      "text/plain": [
       "array([ 3.76991118e+00,  2.88657986e-15, -1.25663706e+00,  0.00000000e+00,\n",
       "        0.00000000e+00])"
      ]
     },
     "execution_count": 6,
     "metadata": {},
     "output_type": "execute_result"
    }
   ],
   "source": [
    "''' Try calling the new formula for the acceleration. '''\n",
    "F_accel(DX, XV) # Ok, looks good."
   ]
  },
  {
   "cell_type": "code",
   "execution_count": 7,
   "metadata": {},
   "outputs": [
    {
     "data": {
      "text/plain": [
       "array([ 0.00000000e+00,  0.00000000e+00,  0.00000000e+00,  0.00000000e+00,\n",
       "        0.00000000e+00,  3.76991118e+00,  2.88657986e-15, -1.25663706e+00,\n",
       "        0.00000000e+00,  0.00000000e+00])"
      ]
     },
     "execution_count": 7,
     "metadata": {},
     "output_type": "execute_result"
    }
   ],
   "source": [
    "# Although this is an autonomous system\n",
    "''' This should mostly be the same though? '''\n",
    "def F(t, XV):\n",
    "    \n",
    "    DX = np.hstack( ([0.], XV[:N], [X[-1]]) ) - R # ''' Changed the last arg in the list to hopefully unbreak the case when d neq 1.'''\n",
    "    \n",
    "    res = np.hstack(( XV[N:], F_accel(DX, XV) ) # '''Changed the args to F_accel.'''\n",
    "                    )\n",
    "    return res\n",
    "\n",
    "F(0, XV)"
   ]
  },
  {
   "cell_type": "code",
   "execution_count": 8,
   "metadata": {},
   "outputs": [
    {
     "data": {
      "text/plain": [
       "\"\\nHey, it looks like I was able to modify the code with no syntax errors! Let's see how the solution behaves...\\n\\n\""
      ]
     },
     "execution_count": 8,
     "metadata": {},
     "output_type": "execute_result"
    }
   ],
   "source": [
    "t0, tf = 0., 30.\n",
    "nframes = 2 ** 12\n",
    "\n",
    "# set the initial condition...\n",
    "IC = XV\n",
    "\n",
    "soln = solve_ivp(F, [t0, tf], IC,\n",
    "                t_eval=np.linspace(t0,tf,nframes))\n",
    "\n",
    "'''\n",
    "Hey, it looks like I was able to modify the code with no syntax errors! Let's see how the solution behaves...\n",
    "\n",
    "'''"
   ]
  },
  {
   "cell_type": "code",
   "execution_count": 10,
   "metadata": {},
   "outputs": [
    {
     "name": "stdout",
     "output_type": "stream",
     "text": [
      "7.5363936170289065\n"
     ]
    },
    {
     "data": {
      "image/png": "[encoded data removed]",
      "text/plain": [
       "<Figure size 432x288 with 1 Axes>"
      ]
     },
     "metadata": {},
     "output_type": "display_data"
    }
   ],
   "source": [
    "# April 3: Add snippet.\n",
    "\n",
    "# plot the positions of the springs....\n",
    "\n",
    "for i in range(N):\n",
    "    plt.plot(soln.y[i,:], soln.t)\n",
    "    \n",
    "print(soln.y[0, -1])"
   ]
  },
  {
   "cell_type": "code",
   "execution_count": 21,
   "metadata": {},
   "outputs": [
    {
     "name": "stdout",
     "output_type": "stream",
     "text": [
      "2.2.2\n",
      "writing to GIF\n"
     ]
    },
    {
     "data": {
      "text/html": [
       "<video width=\"432\" height=\"288\" controls autoplay loop>\n",
       "  <source type=\"video/mp4\" src=\"data:video/mp4;base64,AAAAHGZ0eXBNNFYgAAACAGlzb21pc28yYXZjMQAAAAhmcmVlAABRkm1kYXQAAAKuBgX//6rcRem9\n",
       "5tlIt5Ys2CDZI+7veDI2NCAtIGNvcmUgMTUyIHIyODU0IGU5YTU5MDMgLSBILjI2NC9NUEVHLTQg\n",
       "QVZDIGNvZGVjIC0gQ29weWxlZnQgMjAwMy0yMDE3IC0gaHR0cDovL3d3dy52aWRlb2xhbi5vcmcv\n",
       "eDI2NC5odG1sIC0gb3B0aW9uczogY2FiYWM9MSByZWY9MyBkZWJsb2NrPTE6MDowIGFuYWx5c2U9\n",
       "MHgzOjB4MTEzIG1lPWhleCBzdWJtZT03IHBzeT0xIHBzeV9yZD0xLjAwOjAuMDAgbWl4ZWRfcmVm\n",
       "PTEgbWVfcmFuZ2U9MTYgY2hyb21hX21lPTEgdHJlbGxpcz0xIDh4OGRjdD0xIGNxbT0wIGRlYWR6\n",
       "b25lPTIxLDExIGZhc3RfcHNraXA9MSBjaHJvbWFfcXBfb2Zmc2V0PS0yIHRocmVhZHM9NiBsb29r\n",
       "YWhlYWRfdGhyZWFkcz0xIHNsaWNlZF90aHJlYWRzPTAgbnI9MCBkZWNpbWF0ZT0xIGludGVybGFj\n",
       "ZWQ9MCBibHVyYXlfY29tcGF0PTAgY29uc3RyYWluZWRfaW50cmE9MCBiZnJhbWVzPTMgYl9weXJh\n",
       "bWlkPTIgYl9hZGFwdD0xIGJfYmlhcz0wIGRpcmVjdD0xIHdlaWdodGI9MSBvcGVuX2dvcD0wIHdl\n",
       "aWdodHA9MiBrZXlpbnQ9MjUwIGtleWludF9taW49MjUgc2NlbmVjdXQ9NDAgaW50cmFfcmVmcmVz\n",
       "aD0wIHJjX2xvb2thaGVhZD00MCByYz1jcmYgbWJ0cmVlPTEgY3JmPTIzLjAgcWNvbXA9MC42MCBx\n",
       "cG1pbj0wIHFwbWF4PTY5IHFwc3RlcD00IGlwX3JhdGlvPTEuNDAgYXE9MToxLjAwAIAAAAdiZYiE\n",
       "ACf//vWxfApqyfOKDOgyLuGXJMmutiLibQDAAAADAAVQSrRfODf9+M4AAOqAA/RzJzE35i7o1Mn3\n",
       "kNiAQ4dy5ztCZRRTA+/3eG5+X3VIcfMZDrupDBiBaIazUEfZXVnz1ZBR8nQzg1PaUs/HQQZEKslj\n",
       "VLmNvVjgaBN5FuAxRNCV2RgtuuMeAuk4hYpld/rQVnUM1AIfkCbCOSd8Lk8fu9lU6QLFGD27UMiE\n",
       "AGdH4YPbnFNpF6E2ZPdhCfqntCWEc+w2CI0CkBCv8UziT5k7N6157HGsoiGNrcaNQIIUgM3tLlgP\n",
       "RA7V+qzA9zzlhrxaOfk+VZi2eL84QnL3t0/F/ztE+dxTktbMLappEMPEJMHKzL/o/ZwUh0ZiL5+m\n",
       "AM8hbHg7FEcwiLDvZqlcfqs/PnfMjPPC7pDtZAepm3cmrZqH//SzorsTR06oyTxg+m0KcUFJYOp+\n",
       "Ecb385Cqwcc0f/4B/+RCgj4cdhqfGoGVrQbGoM19a16JWCw6SY2pPahcPcZxNxGa2eeK08JKcaCo\n",
       "Ml/eNvl49JxDWpRrySj11PdXwgShQGoPsm/uMt0CicS5nrkKAprAJ9qZDyvO6SBgPxdv0N53oNDA\n",
       "CdtMdydwuzPEqy/8FQ56GFOwOhxFDcVSWU/GlQwwlTBZhtlhuogi9w4gbI7YIHWeI0rRBcRctKe0\n",
       "2pfUDSvy5vNJMJUiCmfwPDYPNT8nZryjn2veW6aycv1QQO4Iwc/ziaCza2IBvR2EyU8N0eNBPA31\n",
       "83cSpPHLu4exfL48q/iDqqJbAyrO6Mpb5DDosUV7XOOSJi3dDA0gHA5CAzCpC8uRTzBvgoaiztwO\n",
       "ve7jz/gvaCDJ6nigTzwWtVe9rSUFEYUapKXBiBpAGcJNU2syu+JcygNoG5klI315m9NXLvLx3two\n",
       "yXucdb+9cDkiq+0o0Pgze7IcG0cWzfDC4DNiuUhbG5CS8J62xW1ex+siRXN7CoubTqq9CGtnaQvD\n",
       "KUskwcYQuwgtT/+R0kJepsV+Xa3jVu1nwllh9b0kihKD0O/IY1jxJ+dOGyWP2UXdAI8VtltN8Fa7\n",
       "jrL9ZgDyN7roMmwcSZOLnati8gFlFwb+l14hrlm82V90mOMYAYPYNZbosAEXkxejv1BAPt2vkVOm\n",
       "mOGAo75/JW/RkYHvzT+IFBYK4ECUtFA/W1ZRKMuQRU3SywWvVMXeveKkaU6+ijOvPauQ2A4aZDla\n",
       "TEo9KZvX2l2RHrb9lo/6bUc83eieoyDN7vwXNLCffFfOU0Rmz/8CqKLf2V2ehuWnRJXDSmiAsNRD\n",
       "V3l/8WHZxHs5a+P0H+uET4Ahi1VR60HUpzzsaMrIb5Zka4GBdHQhywMXe8jdxRfzp3zWQ8r++NzI\n",
       "x1+hFJBLJEaGV5Xv0sSZtTFqWDjt8gC/fakq1fvOUCft6TJh7fFXX6qxpD3EIJJCuIxV/REekr2x\n",
       "ScaRJLlyhifVkhkDxcLu4R4Bk1DwUUvdOJWcZ8I7IxOWtz/5Ej/VpD8dTEF5HTtslanQ5CljpMda\n",
       "6khEKjdsnLOiKpGsGaTJa6XcSR66J+MhFJiJVqBVpvUMfixDNf/Ty2xkuQ016wyGUOhYbW/WadPD\n",
       "AcwdtxaOSnZg8J09Jdg6aJYDJhlSdq74HAzde5Y8iX6PdIfR5QgH+0PS5FzA3b2KiQ+13BgRjvy5\n",
       "+8lWWF7H6tTT2BgAQu1SBu2H5GEB9zape63Pfvs0nmUCXige8SWUKBGxP7MRC77kNnH9V0BKu3L7\n",
       "/wxdIns7mqVmc8YCzIIvA/46jTtt1JlePxDTj0WBoRmFQPs/uSNTBtxm/VxUfJVP6wkpU4Hq//i2\n",
       "9OCgL3bVu7UUoKA42D4hPBsfgFrK0QxtVSBx5mmQWbCbUgNAVF2oFZuXbSAguj5HLjF4IMK00MXD\n",
       "8b+LFt0D2Ofmtkw1OZgGeVeAnWJC7LGI6TN1LRtDtKwLOfk3wWZ3f3NGlsvGRRyvkmg0ZLHl0pU9\n",
       "JpIx0HEQJimf9PKV85vvtbXgnsu8LCowoJQVoxwO2EDj2ojQ1kKS/dfIRFAT1KE/7DY28ANLU5av\n",
       "tei5ONtpZ3DYqmTChI8qO+ZX909aA+oLHWb5aC8/I0LkX+U/KOflr8u9H+7svZWcJ3QxVN+wtcB9\n",
       "mDrsIfKutf23zA0Vo0XBhpjDySaR7MSAZ00eMI1ix7uARubOVey0wWYLYzKraKrJpbYaHkTLdWcj\n",
       "nBXrbRde0HRveeGR7WyTmSz/b38imI9ZXOqfd+M3KRlQhXfJRbUQPD2T7Uimj8HTAoH+UPoh2kyd\n",
       "XOWD38xbDodX0lqxW7G35Os6v0CEKpXnIbv3nSVJm5IDnGfwROKwat0EURKWZMWn2x6f5KsFbXPB\n",
       "2hhzIH5SN19oZaWc3YNd2y2iyrWRHqpUZ+Tv+iNcarINzvsbauQXU+hJ3X+gkyaGKrDtex9Q0BKK\n",
       "2JZtk9QbVzob1LKbYcCYMIkXCP0sSAEV+Aoa9/aX6NwTKoTXgk0iWTYpWmlerhIooAAAAwAAAwAA\n",
       "AwAAAwElAAAAREGaJGxCf/3xAAEFR1wA/bWkZ9f0GYJkFhaiHOZ1H3XpuYbTw1QaupIFw5ML5eFW\n",
       "T6DDtCR4ruSBWeTHMM6VazJyN6OmAAAAF0GeQniN/wAR12Sx9y81w0mc+wYs7xOlAAAAFAGeYXRF\n",
       "/wAWrit+UqWWVGe1oXAgAAAAFgGeY2pF/wAT7NHPEQkfLjkoNd5zJ8EAAABDQZpoSahBaJlMCEf/\n",
       "/eEAAXNiXooAQ0CtG6cKWn8qR4UEg17VxiCji6alD/mJ4DjGaBpRRBNisk4w1/qhh/7OhM3Q8QAA\n",
       "ACFBnoZFESxvAA+KvrmZyMY2P2aFziDrgvpZfKY6L77gg4EAAAAYAZ6ldEX/ABOdlXqYmSTSaJxZ\n",
       "4uwRnXJPAAAAFwGep2pF/wAT651xYy3wdaiYr7+L/p/gAAAAq0Gaq0moQWyZTAhH//3hAAFzy8t1\n",
       "IAtONSUOF4LLkB6uynoYcTl5KJvJBTtjB4akDW1TKfpAGnxbduxpL3dQZz7OZFk+Xs08dP6tP9u1\n",
       "Fp2h0WqkCuG5oz3/GGCLt4dNi+4Fh+rY51b8H7gf/4eQXNOOzFmPh9RRjgLzDGuQ6SXGB+zPCI5r\n",
       "mWnU54cg07+dtofPjOavEl5mbCc/6n0rFGe4bUfyt0VABHLLwAAAACpBnslFFSxfABPy65gIASt2\n",
       "6XmsdBf0EL0ijSUepankV8+s6lyA1LwnMpMAAAAYAZ7qakX/ABPWi62ZYm8JfsrishCToJeAAAAA\n",
       "T0Ga7EmoQWyZTAhP//3xAADnoNixUAEwZbkDf+ikhEZaqyoMBfmPNMYdHXETi+y+qdYbNZ1FSfCZ\n",
       "wr4DBIidZqjhHJDTriobeSFF/Y2ivMwAAABIQZsQSeEKUmUwIT/98QAA4djzAxO4SiaBfMlcdIMI\n",
       "ANlYsohP15Fz5u9vDcO/wY3YWQVux4VXeU37slV9CDK0CKfc8C0fM6pBAAAAHEGfLkU0TG8ADzK+\n",
       "uqweVgQzFmczxksqBcrEgz8AAAAYAZ9NdEX/ABNf4blKIFOqB8aSOc3r8dTBAAAAEwGfT2pF/wAT\n",
       "VX3R3cLrShP98xcAAABaQZtUSahBaJlMCEf//eEAAU/Lym1kPkqWoJCc0nWUyApDrWS4+yNNJp3v\n",
       "0yNpfEIqhbYM//cBm9O0w3Puhq5/yD5npPuM5iy4kwI/pU9P8hmGf8qkuqYMYDDwAAAAJUGfckUR\n",
       "LG8ADiKV01RBSikzzT4y/e5iPn7+ACSlPalNIQm7HzEAAAAXAZ+RdEX/ABHfYN6jFQK0m3rJuX/b\n",
       "7aAAAAAXAZ+TakX/ABHS7JPtkPQh+5k/GvJ8KakAAAA5QZuVSahBbJlMCEf//eEAAWps0ToZo2kx\n",
       "atcOpsARef6EhW/ITuhv6AQogCooC/+snhMjOCDPl42VAAAAakGbuUnhClJlMCEf/eEAAXOQOQBS\n",
       "TZkYUlc5ljLYcgR0DpfjsjZ7yKoWaMHFJGT4PJfJsuLArfEBAKR8NcdYMpeyVXlh9LRJH3Kt04Uv\n",
       "3q1Z2HzwKa1BY7CPz273SSbUmCe1S4bae4WkyLgAAAAuQZ/XRTRMbwAPi7XFdhID1u1P/7jQDZ1B\n",
       "lz08Y1/kNx57lPABtW4nCDbFLqA5GwAAAB8Bn/Z0Rf8AE1/MP8Eu0IQ7A3UBswvSJEVU1nZNjQXd\n",
       "AAAAHgGf+GpF/wAT7M/XUoYUmyxs+A8nXefQy+Sy704CygAAAExBm/pJqEFomUwIR//94QABdKtn\n",
       "M8AaAe/pXbcruYNM5tbQOJsOO6Mz3eXEhLhXk1CePbZernLvjjjkgPNMe/9hZvVMBylJFikLx5eB\n",
       "AAAAfEGaG0nhClJlMCEf/eEAAXPM4F8AaAe6keTsd54y0UoUUdY6MH6dFssMMjHZZ3AsuR6Hj2/R\n",
       "9K0hyl7ZOCEAR3/n1j/8Io8vWn+NDcSQAnCLHMTKv7CQHyVhwjNYBD+G7Nf7goQW1Hj7qn/nugVR\n",
       "qABOLjhE/a44r6H3SJgAAABuQZo9SeEOiZTBTRMJ//3xAADn6Sh3wBPw+VtnhPSY3gvcXK4kI+Ru\n",
       "HONve36sknVNQbhBqMm33t3QsEZmaBSVUoyWl3ABYDyEr3XgQL4cDA8dJ2tXcI0E7StpZkSNnELx\n",
       "M23gIJpOS3q+8rBGqYEAAAAnAZ5cakX/ABNTDj2tESD9u0AD92VWlLNzDEO10e4NDzu+1hX6/GTt\n",
       "AAAAd0GaQEnhDyZTAhP//fEAAOfpKHfAEIf0+/sOiOzWPyrEzMPUfNOIdw423KUV2LJhzQuQfjdE\n",
       "ZyHGYZKxKpNH3X73Qh/xuQzpqx7OoRB9qYbTPOsKiH3zvLnDjbWgvHAOAbRUsCW5ppRR/YZGXH7g\n",
       "N3AtxQXN6WVcAAAAN0GefkURPF8AE+zSFrN1iKAEqPFAA0B65/dji95O5eEnCowWBPLybosvrEm4\n",
       "ioat+/njeOxIF3AAAAAkAZ6fakX/ABPeg6HWdM8pXvqe9EqUAEKzGMjQcRBgai2JzB/hAAAAY0Ga\n",
       "hEmoQWiZTAhH//3hAAFPYvmxIPX9D0AAgE9L6FmypXXnoyX/OrCO72YIhrD5gL/t8BeN3PU3E9Dz\n",
       "7qcJdk2EZfkwg/vmGdR/85ICpuP6npYVgAK6Au0TNDWFLlo35+VPVgAAACpBnqJFESxvAA4quuE8\n",
       "opHZBC0aE3ieQaOg3wUeEqmqaadgA/O6taFcGBEAAAAZAZ7BdEX/ABHfy35zGpr/i670P1LiB6aK\n",
       "ZQAAAB8BnsNqRf8AEd25TjzEjnHXRup0CPqLXtwbeZRtvgoJAAAAZUGaxUmoQWyZTAhH//3hAAFz\n",
       "bkhyAK2Nig6I8p035Kmx9/KgaTqnv/oRW1r9Ke2oAog65nLZVp2nDZA7z+wYaOqypZuSVZ3rZk5r\n",
       "M1AOUwXfnlmaK5/YcFJYK9+GSUi8SIpwcxoJAAAAeUGa50nhClJlMFFSwn/98QAA55KG7gAbI2iN\n",
       "qK+5j3NeXdnkCLgBAZlChxuqXd0aH0EAe3tcupUlie9IxvhRDXZ+PrmrIcj9+q5xss5cS9iOkrS5\n",
       "kc/a04p6vk6gnuZbXeaMKOHnuL4PiGVXRpaOQIBVPdtJ4wUPW4EAAAAiAZ8GakX/ABPs0hkrbwOj\n",
       "qOrx5z56n/HPkt05kRtMO0PBLwAAAHtBmwtJ4Q6JlMCEf/3hAAFzyr1UgCIQup2iwXjdsYgeNvCu\n",
       "7HKaqKWk6/WLbUrzJD/VYEg552njzCpclkM9c9ChftvT+ZGKmgpYZsii8s3DrsuSM0VMyn7Syvnw\n",
       "ZcrfDUrR/HGr6h4I4atnlObAtteCKSsAmejgwhIWCkgAAAAzQZ8pRRU8bwAPMvHIPOntCFxekXhM\n",
       "VxPPoAH7W6+8Xx078dLO3CL1trCJu6BvnxWNeMGAAAAAKgGfSHRF/wAT73wvBIcPotSddMBXn9Vm\n",
       "PtbV+6+XeknPgAQRckYDLrgFbQAAAB4Bn0pqRf8AE+GO2jUALoF8QzS91FdnOGxulULgJWAAAABp\n",
       "QZtOSahBaJlMCP/8hAAFqXT/IBfFQbRSRB2LhVndxwRuCI02x860H6WLldJl7OYB7dr1bo04MBcy\n",
       "k19YXqD80Dwu9H+f5bbi2s2vj068HnTBdE0IT4RE7dlpt283BJs/57yWV24gITqgAAAAIkGfbEUR\n",
       "LF8AE+zSHRYl7Vgh1F6oqizskhViyQrJqKeKA3sAAAAcAZ+NakX/ABPhjtD9Bn+afR41zrdRwwLR\n",
       "sLgFJQAAACpBm49JqEFsmUwI//yEAAVBdHj9Q0cq0AQ0SUMMWBhOHxuq0tCdJjI5FJEAAAAuQZuw\n",
       "SeEKUmUwIR/94QABWWshU4PaHLZnPhAEFw6bYBEHH5fZdouJWgv1BE2PgAAAADpBm9FJ4Q6JlMCE\n",
       "f/3hAAFZayr0ADXXPWJ2M+80SDSxRvPE/zpb//PMr2NBd4A/4uYwhacj8Y94AgbuAAAAVUGb8knh\n",
       "DyZTAhP//fEAAOe3Ko8AT8Pv0p3S/CrYJAzcJyQ9s/rOjZmjklwo/7RcaQfjicrPDfmDiGjdfVPK\n",
       "bXKP0IbE7WHtznkbJLmznhQ+6ocwxYEAAABtQZoWSeEPJlMCEf/94QABdGoQP4AnztKj3xzincXt\n",
       "rHcgpIifUc3pD1NS5VwvkZxgCtASpe5Y7NsRGY2fOfeW7UlJ7MR2PYGod0RnXWNGhvr4G2TgIOdM\n",
       "ld9bxTcN71HsJZbqq/KN3e7ddKoZ8AAAAEBBnjRFETxvAA99iex1AAkp93XrbkThbc6PPMF1bk3g\n",
       "6eKQfu0ZoEBrly4U9Xxm/DjtlVqlwqZwyrjPvuiUSG9AAAAAIgGeU3RF/wAT73wzTR4D2IBJl7l1\n",
       "O89g42q53hsp5bSAtoEAAAAvAZ5VakX/ABPs0ha7EvJQKRH5OOnmeKgAaQx6+q2DzZdaLke6+s0a\n",
       "oId+UjDrg7oAAABRQZpXSahBaJlMCE///fEAANKZR03Vi7Tc061X3jWwgBDuUPE7+3leMkh69/2A\n",
       "1riNBCtbJO8Gn5F707iaZPtp21HF+Usb9LaSh405MxD8IJuBAAAAXEGae0nhClJlMCE//fEAANLG\n",
       "rXbOpHfWYsFyD3R/ovTOoAoGUP7R6BiT8jR6J8P5PbzqlFiHswD2f/5m2gzHABMu81XWh9nwBI99\n",
       "34MBZLgnvAxn2yZlTARbiSh5AAAAMUGemUU0TG8ADiSedepAlA2W1CDt7AA6fO7JuzNumoSZEbV6\n",
       "LiLE8YtYGUUEG6xGhnwAAAAuAZ64dEX/ABHhzLINXXtUZpVK8AGteZ4yNHksydasiLFodtL6Wu+L\n",
       "aizQYQcGfQAAACUBnrpqRf8AEFJIlP+eogjdpbbMkPHqaSAwQAHu3sa7SZaVnqmFAAAAgUGav0mo\n",
       "QWiZTAhH//3hAAFzBRpxCyAHxh2UOMzXbmJfNMhbzfXFB84ukw0xLhyzWaQ3p0vpsCs2jpdcSGG8\n",
       "kX75kJcRADNI70CFc7np+030v32AnxKrEgaeR6BmKnVLK6zAsS/C2zQ++y+1WKqE5RT5fS6uRicj\n",
       "RxbIQn9AWW4hgQAAAEBBnt1FESxvAA97Rj1+gBBOOB8xGSaDkASHab3yJ1CzL1RE9XjpN2YtxeAz\n",
       "M1pW11bVVdDR0kJLHfuKw8dK5EN7AAAAKQGe/HRF/wAT73vmfWJvaoAM1RqT+jVPeeFNLU6y7bUa\n",
       "9SnZgOEVqG9AAAAANwGe/mpF/wAT8wjfEAJW7Qw3+CuHZ0GfVi+F98VhOolQmfZ2zaC/Xw3IkhqH\n",
       "p5A4VTn01ywAQ8AAAABOQZrhSahBbJlMFEwj//3hAAFzZbeooC0ejkUzsxqPqgDfPPvv4TuJBVaW\n",
       "Lic1xTBj7wOBL0lHzoqcGVPU/Vmp+3QpWQXTDs9z2LG8O/TBAAAAFwGfAGpF/wATUu7ecPv7XdWP\n",
       "FIwvjKIEAAAAJUGbAknhClJlMCEf/eEAAWpuHwLdKDQACwQgUgB57WLUpQBiu6EAAAA7QZsjSeEO\n",
       "iZTAhH/94QABamdwJyYrXxJZkxmDF+AKULr+YhErIUikt14ZEX4HUvfeIKoPml5NJYIF51gAAABF\n",
       "QZtESeEPJlMCE//98QAA4iCtHRciQWF+UaAEFRBzMt3LaKcJk5KmSPX4pUUDqBoZrq4Ijt/H9oLD\n",
       "+Jgz4SAquj2TAoExAAAAXEGbaEnhDyZTAhP//fEAAOHdi6X208MqYAUC/RegAK4C94osng6NDeAP\n",
       "5sO2ENGwaaM3WJhUqnWwwRTmD/+xSYFAJHKL09kLlcIpAxD4/ohGiW6iCPlFyYGz+D7hAAAAJ0Gf\n",
       "hkURPG8ADyru1LqJYwQ1LK2D5CFTUG3pI95d5JmT2/7UOo4FJQAAACEBn6V0Rf8AE2HMdUt0rGfz\n",
       "u2vAvwRJN33/pKZnNWTtFtEAAAAkAZ+nakX/ABNfKhwVothcr05qb2O5Qybk8vqR7pQM69hKqMCA\n",
       "AAAAZ0Gbq0moQWiZTAhH//3hAAFq7X/N0syAk8qwARCGm0HiIRYGdTk150fm+yrWFYZEFmAwgDR6\n",
       "0iuCz1AsLGadofkKtfsLgiAz78Pmy0aSlZdhUq6R7Wun/aglN4N22Q5RLbAhz0G4lTAAAAAkQZ/J\n",
       "RREsXwATZWK64E931OlXvUFttl7pGK2CrsMHjbhdLA1JAAAAKQGf6mpF/wATXyoQUPgC1mKOHVVy\n",
       "swnEboAQb8N0zoRweGm6zDbWgMGpAAAAY0Gb7EmoQWyZTAhP//3xAADSmMJkANP/x1ZqOymW39pl\n",
       "YB7qrQ03vQHFDM9/tlNlzke/siTmHdqHd57H9NI5uTait6SgcejA6IRnjd75gq4nxzX4ae18c2Uh\n",
       "FJzJ9gECt2oqVAAAAHhBmhBJ4QpSZTAhP/3xAADn6Nr+eAIOdojdQsgx5dZ9LNHsRLovY1jExELw\n",
       "8iuSNBjDfHCDVXzOJkz2VRkHSJtHi42QH+QHFheN8pe1JeVRKj5AoRFTqQO9q+3qd9DY1I33lpBU\n",
       "vvFrRbaeNu/SaM65IyX9K+DBqYsAAAA2QZ4uRTRMbwAPi6xixEfeUTqRP4ALAY1LR1vt7InGhYj8\n",
       "jEE5zamtLMcmViUOh8vI+t1yMRgRAAAAIQGeTXRF/wATX1YepQ9q71RX8q+bJMN544/xttCPUV0x\n",
       "YQAAAC4Bnk9qRf8AE+1oEAJqI/24iYP3/aIyCXswLGkUSsH/mIph9sj0FKZSz7nysgu4AAAAgkGa\n",
       "VEmoQWiZTAhP//3xAADuaX35CVKnnWqrWxkG/Vu16z5diXaQgzMbPgV4zO0HUSZ3dtZMqwp0ZwKl\n",
       "a08/z2+0KJrUVac7DU0Wr1o1LBik+eCtOi97LTPtEvTWzkZoVchQpnRDzsa/x17WZyyHCa1oWglI\n",
       "lPcwD4sQq1/YovZj+R8AAABDQZ5yRREsbwAP3JUO/BrxzK5iPlaF1AAJbPA8Yerge5swr/133vAd\n",
       "9a0bzQmRVBUjhUfGV0fxgQoNZ6pdeSqkHY0BoQAAAD4BnpF0Rf8AE9upAj2+CQsuYcGAbABAPfZu\n",
       "pBgf6ad1oAmF0jYPsagjNt8Z+5xDceptBdHpx5cnfhrXRSUBUwAAACQBnpNqRf8AE9zOjT9+Yhkw\n",
       "kr6VfVzQ0VAnHk1WnFzbn6EHg3oAAAB/QZqYSahBbJlMCEf//eEAAX0UlzBi9oAQ0CtG6bzphRIo\n",
       "XTI4dVK564K7NhPKxadkokUxawCB/GNRmEu3tgKnLfYVfaZqAEcb4FfmXtBAHhFPtSkzoigIHLo1\n",
       "f2xg/iYI0abhWTJfW7Tw4ovuGa4MLWJdDBH4tT1vO+hENYCDHwAAADpBnrZFFSxvAA/aJ22xDk0e\n",
       "jeiWInpzKYQ34YJrRuPCekeh7ME+FK8FNxomgAPu/lK6FExRkRhw4DfgAAAAJAGe1XRF/wAUf2JX\n",
       "M2UMdWwA9FpwB7E+Q/ZZ5nnFBJyDY+wFJQAAAEABntdqRf8AFG6EVu/i1EXSYg56CdWuAAa1nsVd\n",
       "9AKwM2XjIzyp2qDylT2fHEH8+myhlcPQ6RmcRmD7Oq23pwJfAAAAWEGa2UmoQWyZTAhP//3xAADs\n",
       "4MJMogAKq6HyIvw+3nEd8tAJVwiGMvA0Pk+WGvZGNlFNlXQtTpViyZnP8BGfWeif8joZH20owo7O\n",
       "IPDB13DrkPyHjzMaznwAAABaQZr9SeEKUmUwIT/98QAA7RZ6Se89C9wi7wOxr2gdZ62vABwZahdt\n",
       "bO/gSw3nRDj7qfGomr4tHfg3iV4aV2eYqBKtuHpBG8IO+YncEOfKr+YQmKSTWgrTmgoJAAAAJ0Gf\n",
       "G0U0TG8AD+O3oOdveDlvGHHKxeJgMDrl5lsSRrXpnL3Kn8+BTQAAACEBnzp0Rf8AEF/kpyDNghXR\n",
       "upsAEDf+xaiyZbwJrvXZEHcAAAAlAZ88akX/ABSDpMm5zmMIZOW9tjIDU4iP+587nf3gmKDfQYeD\n",
       "gwAAAGJBmyFJqEFomUwIT//98QAA7KEDqnRyDTwA1vJucf+OHntUQAOlS7CmBbHfRF/eniQRPBvj\n",
       "5NQwYXI2Abc/Yjp69h8hcEH2ot8EGEkBCw5wz2UhJgd74pa8wB92Iq4/z9FDwAAAADFBn19FESxv\n",
       "AA/ivrmc3wASyXmbyxdDAfTbw4+YxAQN1aodsp2mnZN7JSFNMz9Wug24AAAAHwGffnRF/wAUfTc2\n",
       "FNx+/YIg8NKQ/nNBRcRJnZtlplUAAAAjAZ9gakX/ABR7nXFhxhlGvyc5azaOvo9rACt0AJn/JLgu\n",
       "akAAAABRQZtlSahBbJlMCEf//eEAAX4g5YLhngoPZhVq+AiAIdu73MBOEswRe5Xpgj8vngLOjE97\n",
       "nmQWdWo9gfqTaLvzCMRRBXWbPjxbX64NCA3UC1VBAAAAK0Gfg0UVLG8AD9y1k4aO8VWcy7YqwRuH\n",
       "HY3FjukZlWTnl3EPJJ+I/uWwGjAAAAApAZ+idEX/ABR3BPKj6na/b5q329RweqLTTBXRLFAAbSSM\n",
       "gtvcgNLXARMAAAAkAZ+kakX/ABPrRCjnMt18lVW1DX/A74v3P62KY5xyIujZMAf5AAAAcEGbqEmo\n",
       "QWyZTAj//IQABakscpkAPyMaGIPED34HyW8nvRqZxXTzOyw5hZw10oXJCvv/AwEvoTD/2C+hpSHT\n",
       "3Ta4lXhJNwPykVR2uvZqbho0qSrXYzZ6FzRQDFGREZ6f8WaxH+GBPhYgI+vQU84AqYEAAAAtQZ/G\n",
       "RRUsXwATnWGU8HszRNg2xM3Ntg6bqeqhaYi5SFRwrva/ZVHUgj+LgAGzAAAAOAGf52pF/wAT60Qo\n",
       "5z8BC2b3oknE9JQQAIT1mFFTGNVXPbs3caP28ShKMycZElnjTbeMzjCpgIuAAAAAe0Gb6UmoQWyZ\n",
       "TAj//IQABaZ8+73iCCOULkQHGIq0Rr7zInc7XaMztEGEk5TPZiXCY1N6lU7X73fNi+n8Wd/MBwS1\n",
       "VQsucMIcAdbAhRCpcRmmz9IOu7zQhUaJuFhN/IGdkIFK1NM8aCr+vA8Akh9wKk0anHIJFq/uys0r\n",
       "GAAAAEJBmgpJ4QpSZTAj//yEAAWFFXoAArmsSyQmpaO9HZXjbA+05BAW6FADe+HpEh9F1bYQBPG+\n",
       "bDUSlO83Gxzl/8W5qV8AAAAqQZorSeEOiZTAj//8hAAFhSHkXfdvgesUw6mTQ8jzl4p1tSlwmHfn\n",
       "aI8IAAAAOkGaTEnhDyZTAj///IQABYU/mmE3k59W/36AaAIY0bB6yp7K0Mf/yd/6PbXJnT2gRJH8\n",
       "oJiB3m3j+YAAAABMQZptSeEPJlMCEf/94QABamAyrAFUu8A4apE/yUHGL7bRozJg5j0KCBCATwHL\n",
       "qBXlMO+ANVuky3BQPO4YHC9OaiuZIyFvv7R9E19KSQAAAEhBmo5J4Q8mUwIR//3hAAFqbglNW343\n",
       "vgqrkUndE4ijTu/eD6Saz0DFfHzjYv7gd6BwvjbOawaxNSSyl8V2mqfLpYiL1/ptQXEAAAAmQZqv\n",
       "SeEPJlMCE//98QAA4hKCP+needGFnknKp2PfzsXP2bZHBYEAAAAoQZrSSeEPJlMCEf/94QABam4J\n",
       "TVUguQo3gBmJ0vhAh8YVJfDEJoyk0AAAACtBnvBFETxfABNVfagLlAQeRI+2EGowgBWf+1j5gfWV\n",
       "bgFFTlairYT/8PFbAAAAGgGfEWpF/wARVZ++1GsgXxr/UEJBM96V6EPBAAAAPkGbE0moQWiZTAhP\n",
       "//3xAADiIrfkad7wNLlQ9UJy2yehQAV6OapKblb5t2pobf304aqmx3pcEXiIqun6yGzgAAAAWEGb\n",
       "N0nhClJlMCE//fEAAOHaH+57+882xxooXDnM5/k92nvSbRd1oAWrlDLQPXOo+LqD3jPVDN12kgyw\n",
       "5lnXZMFAqt4S3356+hbG/tfHZuc7EKP9Bh65LaAAAAAoQZ9VRTRMbwAPKp17vA0yePJkLp1RXXnd\n",
       "CqJzQoOYFPrDR5Byl7wFlQAAACMBn3R0Rf8AE1/MP8Ef6q6rx1SAkZmiH3Cc9IzWKspknOgFtAAA\n",
       "ADQBn3ZqRf8AE1MLCo5SfKxf1H1N7rwoDLAAQ4p/p+lIC27ub8slt+I9U68xppdZtDyDEEPBAAAA\n",
       "aUGbe0moQWiZTAhP//3xAADh27a32cujiVyzbYzQqLzc8t6/9wgZOsMEAFTd79IFrobvYeYYt1Yw\n",
       "hLHwvRV4KakUC7sQUpgKeg+J2CmsB+FGv0OOsJUWg62Wj6HehVka8rewWDZT7nIfcQAAACtBn5lF\n",
       "ESxvAA8qSoOumnoCV2B5dnQfz0x6e8yDy/j4KEXqYM35GS6MsuM+AAAAMwGfuHRF/wATUC1vRdg2\n",
       "ye8qtu4UvgsUypBBkl3cBGRaJ0aBNcSVpwAJrCGfwreL7bDjgQAAACgBn7pqRf8AE138+kOP72i2\n",
       "SuDD+yBCTmp7lNwLCKEdhnvibm9wfRXwAAAAakGbv0moQWyZTAhP//3xAADoh1rmi2w5JRwBSBrz\n",
       "6BL5qe41jA7FmHe/gqRcxQ6/NSb3a6j86GJtV20trmmqdHdXbGZ6wS+Zy8YQyi/AXAAk4B+Zp27e\n",
       "RFP3KuTrsPpZRUSlaZJf/y4YxJEAAAA/QZ/dRRUsbwAPgl9i8ACDc77EevDiDzkdEAtnBDjtxN1G\n",
       "5Aj1mXnjZoT9jRWZyde9RBj24Z/U9ViQ3e3CtQcdAAAANAGf/HRF/wAT73I4Rby/vb48duOPIAPf\n",
       "bWIK9BLak0s7jBLxH+BWohAeSg0WcbEOQ22RKSAAAAAjAZ/+akX/ABPczrwOWyQzhc3jRCQMctt1\n",
       "kqayyWmEXGMgUkAAAABLQZviSahBbJlMCEf//eEAAX0U0k2VqjABDZxAVRhnpTssyiTjbDsTROkb\n",
       "imoglW9sLu+NDJRGBXcsFpB5LU12LGjwPe19VPGgSUW1AAAANEGeAEUVLF8AFHy9A7QbZ77vCULH\n",
       "6GT7IMdsAFzuqnIGQdI9lJd0zplDKx74c2WmkOEVCHgAAAAfAZ4hakX/ABSDo3UB/BnBUFLC6C2q\n",
       "Z+axB0ZsrNZrQQAAAFVBmiRJqEFsmUwUTCf//fEAAO0g25vfJQAFekkRuoSexXCToF0yABkE+99q\n",
       "1Ha2gTkkDUbsofV7e/whE7d9BORO1JyBZzayQrco2DlT6P+IMyr9NKtgAAAALwGeQ2pF/wAUboRW\n",
       "7vOyu+s0/f+73rWfZK76XpwAEG2lG3qqF9HU0MMhFCwKcAqZAAAAeEGaSEnhClJlMCEf/eEAAX18\n",
       "1uh/AB/evuIv92ZDlIv48X9fZB43MoA/TQev002yoUhwGuwAiNC7CWG2FMfYveEk+j33hJ+d4g4E\n",
       "w4cQh6AjaOZQHtnq2WSr3LCJVZUgQibmrmhSp12o63A7jlXmweCUWgiZmzJdwQAAACtBnmZFNExv\n",
       "AA/jt5xJrrxuPAuxmh841SHwSobAO/m0NT5o5NO9Xt8IYCbhAAAAOgGehXRF/wAUfRmhEtwAICN8\n",
       "XB5yafMN42hd/puSM0bFdhmsH1OX5MusgHK23IVhorL1z42mYMmgOqEAAAAiAZ6HakX/ABSDpMO9\n",
       "tmfGdrl6HzL+Fv3PWILggPP47roDugAAAFFBmolJqEFomUwIR//94QABfX0GKMSQACBGQ9dbtZVF\n",
       "yptQjv1Oy8eQptQrRum86YoywpnQau7cfvqTOJZyog+sW8nWdWSlwma7QGkQOLxHZekAAABgQZqr\n",
       "SeEKUmUwURLCP/3hAAF/0k+B8rRBct1lgq19TN/dHD8uovtglFS3m80SyISKW8j6DOzScXqVIjOM\n",
       "2AQ96kdhK4NF8fwrFpkl2vD3ezFwb0Y3EPw4OwWCUkM/kwXBAAAAHgGeympF/wAUbav1hnyBbLjI\n",
       "Vua3e6ADaOd9qY3nwAAAADdBmsxJ4Q6JlMCEf/3hAAFzZ3AnJt4w9syBLSeWqOLNzwR7JSqrPkFT\n",
       "d8/ThODiqBsEXHTrvytgAAAAY0Ga8EnhDyZTAhH//eEAAXNlPuigBuU0eemrwWXID8RHVyOpWEkx\n",
       "mEjXLQmPkAPuf2s3hintGQFp0NenTtBGf7jieh5cjINJ/w3ZYApGrX+9Be/ZEvoTtXU2DEcxbnWv\n",
       "Mwdk3QAAAClBnw5FETxvAA+KmybnC0Ra8qzYO7LNy/c0WDQyD/p4bcxR+ldK78CTgQAAACMBny10\n",
       "Rf8AE9udTXfMTEBMJBETLxzDNJ8KiNc53J01E8gb8QAAAC4Bny9qRf8AE9zH54AEA9opTun6C14N\n",
       "qEMFejyLKfo61B4JxwpB768ZC6P1b8WkAAAAaUGbMUmoQWiZTAhH//3hAAF16tiBTMm+wnu5CakD\n",
       "mmIxMnlu/4MZiXVMBcxzBfHGrW7XvJJqoLMnGuRmWmDIruZtCDJbPKMe9yTpAhHvTmMmjwAsgiKX\n",
       "86rQ49jqBL8qBOZgWuvsnOjTcAAAADtBm1JJ4QpSZTAhH/3hAAFq6cS1t4LVbl0lgSr5XwAEHA1v\n",
       "7P+EcSX9GCrzFByxS+tgPXNmMZCp52L8qQAAAEJBm3NJ4Q6JlMCE//3xAADh2PIK6kXXYifIqr/7\n",
       "oUdsAAbUMJeKjtpMrtPzw0niH2zFvFhGEaUkGbJbGqnZh+RxG0kAAAB3QZuXSeEPJlMCE//98QAA\n",
       "4dpLf9AErPUOCqbXKgsAUo0Ogrt+X1R9jmcxwSXhZcZF8AFb0HVG/T3rQ/FxNqPcQrTr9wHTtpdz\n",
       "vXHRR+PK96EUiv90K80cViAC+QEyA8etDwYnu0885wyAgvVDhpC/HrBtLWkag4AAAAApQZ+1RRE8\n",
       "bwAPKu80icFMCGjkvWN98oERX4AJoMTS6/ZvMV0CfEgV4ssAAAAqAZ/UdEX/ABNfYUoEhkBsdj3f\n",
       "gBygd5PwFfM/Vonsc6sWkAAhQPvt9wb0AAAAKAGf1mpF/wATVX1nYvhriKIz8d6wTRkOdjV8xcS8\n",
       "UABtJI0uIiL/g2sAAAB1QZvbSahBaJlMCE///fEAAOJozKr8tLqzjtWp2gtP6R1bL87F+BD9cBOs\n",
       "of2j0DEn5Gj0T4R8hwEgkZVbTu5WW9A5Ge8ID0bkKp8JTfdFuA39lVL53FBdR3QUsC2IKBonuZk4\n",
       "yATzYKZQYv3XZkctcpOdQfqFAAAALEGf+UURLG8ADypKmGr+79sacsc6/jyWYnGQNA72lHV5ytNo\n",
       "uTF4DHB/tbG1AAAAKwGeGHRF/wATUJGxw2EV1hb7V5jVAq/E4IHycfxK3wAlkxxJdya5oEV/oakA\n",
       "AAAlAZ4aakX/ABNSV/ZXQmxJnu06m74cfAH7hS2ETpSYqcsfzSpFBAAAAHBBmh9JqEFsmUwIT//9\n",
       "8QAA53OrgA4Mh9t9s3fU3wpdyikwvwS4UGMTV1jeleqcfYRTU37H/3FNIPF8/Psx9vBMIpr1n1GW\n",
       "CjQfk5jKJ1c1X3LDRoSqY7y/UjIV4KhiUtFtl98rE7x+i9qH65cw5FtBAAAANEGePUUVLG8AD4u1\n",
       "kLXd9mMuLLw1PgqIAIPmJuKG2JgsGBTzp3/mCrVc5VNWVHbtj4MeA28AAAAzAZ5cdEX/ABNfVomo\n",
       "ke13/3tgH5kACAjcPGijJBOduys5S/gpKcU1da7cPlL2iyeTnhHwAAAAIAGeXmpF/wAT7LxoKlpv\n",
       "yVF/hztK4NNHfzmJ4ysQwH+AAAAATkGaQ0moQWyZTAhP//3xAADnkjyXb6UQVcKO0x4OhYACCoRG\n",
       "poh/n+CfRG0bjxFU0ZNe0suSTTqlb0XovMtfqXQubcEJnpxeT/lk3ADHgQAAADBBnmFFFSxvAA+C\n",
       "VlDrl22wjIZtPWDuizZ9GQU9yRVf6cnirs4ABDiP5tA++ykgN6AAAAAjAZ6AdEX/ABPbA/TX5sAT\n",
       "G/gy9tR4FRxhYMYOLXeRRzSA3oEAAAAtAZ6CakX/ABPdupT+nT2oFzxjwAELAjQwCTtwK/B3Unql\n",
       "sC0/Htvk1hmGAG9AAAAASEGahUmoQWyZTBRMJ//98QAA51jHppr/7+Xt+HIAODT5vtiCxZVyOjl0\n",
       "nRpsZ0IsQBvndAP9o93i8T0gqxVKZ5srWZeUDB0bgQAAAC0BnqRqRf8AE+s8h/dG3txLxHU7sex+\n",
       "kibYuG+VUxsYlABB8thQp6V9dKvwIeEAAACCQZqpSeEKUmUwIT/98QAA51pMA3QIhUtyvV1OxvrC\n",
       "SyeJsXtSKCLj8iqjFpq4UeQbdLS6KwXSm0cnh9YcQAVwF7uYEDw8+YSUV5tz3NvH+HtY8Qvsbu6R\n",
       "gDqtRhnfuSG8OZEQfZO0L3gaXW0w323HKFKtWnE+jYPNo41uiD0GWhaO6QAAAC1BnsdFNExvAA+K\n",
       "8QeYpqg19jFvtOGSixjFpXI7tRee/cRYcSm2uh6PrElg3oEAAAAjAZ7mdEX/ABPv7JQsa4JdWQu/\n",
       "ENsbB0AFyDo+hCdIdh24r4AAAAAtAZ7oakX/ABPdq5T+r/s2PCOPyxUfszLbl+ecyG9Ei4wAlkxx\n",
       "Jd5PDgXL5sJuAAAAWEGa7EmoQWiZTAhP//3xAADnW8NSkANXVEPt8zylO2aTlKuQXaPZAZFhP/hY\n",
       "A5EealFO8APQ7orbn+xSRnIQASiGSzYdX57VtyvD/k+9gWfT9cMy4mYIK2EAAAA2QZ8KRREsXwAT\n",
       "60Qo50i9bOV8gylXyfE1M81ABrDj+DzvxcjbWEmbA9Y8jT7WR0cH9DvR4LuAAAAANQGfK2pF/wAT\n",
       "6tIcqAkTwz1RkZ+taC+FWgLTG2IGYkg4APwCN0zdsHdQsEnwS2MfyjwTowG9AAAAc0GbLkmoQWyZ\n",
       "TBRMJ//98QAA51ts+oA9Te5A3/opIRGWqsqaz3oCx/DMqXui/w40vBO/YlUB6EF4Kk5ipwrkU/h5\n",
       "eKo2NLkqS2OUeov/MiOfkqn/wGocZ2xYaHTP3I6nxmRxSh+2VWzGwJvvz6Xz4yvf1JEAAAA/AZ9N\n",
       "akX/ABPy+aSAgBK3bpeaya9c1LMUB0YBfXkA3YGhqXGd9mPLm6PM1HlF/QW2J/M+kWfYMXbyBFQb\n",
       "1AvJAAAAT0GbUEnhClJlMFLCf/3xAADh2kv+4srP6iI+BUffe7MGAA2oYcsm9F1R//lKnHOZXp/H\n",
       "zwL/2xFA9rPI5ko3wi9luukYt2ApAfrxerjNN+EAAAApAZ9vakX/ABNSSJRzUlT2PZz3F26AEECE\n",
       "kKwUIB2fpvn6Kz1cQpMEmpAAAAArQZt0SeEOiZTAhP/98QAA3RCz9G5jtSWotQggJ+5tGKSaF0Vl\n",
       "DyYcoGvZgAAAADFBn5JFFTxvAA8qnLi3lTzwgABJT7tpmV872FIizYjDdNsLMf/gLDC0jlDVvgAc\n",
       "5gfNAAAAHgGfsXRF/wATX+G5R4VotQIPfq24AovsXvz6jH8wIAAAABwBn7NqRf8AE1MH6+GOgZa1\n",
       "tN/4pf3Hy1SWtgz4AAAAVEGbuEmoQWiZTAhP//3xAADnXBycoANkbRG72dFDrcxh9ebdWFwKpGPB\n",
       "xXS9mpiGbPMVMxP7cBcNSH/Exu9Gah10DDGjhk92zRU773BpvEYyjM944QAAAChBn9ZFESxvAA+L\n",
       "tZC+dc5Y7uqcNcEXUizjUrrlCptvwkQm2AtO0oLKAAAAIQGf9XRF/wATX1YeWTWoQnGJ12Gsr5ft\n",
       "aMF/P+Y0rjgVsQAAADYBn/dqRf8AE90XN4AExdqkDzaVGfBtBtzp/IVzN6rKFwI6JpmQ2X7bPZef\n",
       "RTyc52PrZ1+iC2kAAACHQZv8SahBbJlMCE///fEAAO0g6xb3yUABsjaI3UKkU6GEZxaZ1Opbj2lr\n",
       "qM77PSfMB/dJMlk1AgzfBiQW0QPQelEccKdoxOslB563y0U+mHw0z0tnwg1VbzHH3gN9KzdWHuUX\n",
       "p8laVVecjHB4/YDgi3GcAfhLy57OdJdkWnmM9hptSD/5XEj4AAAAPEGeGkUVLG8AD+OsgAFZC/vL\n",
       "mC0q+MRjEErfB6ZsABA63YADChG/0LhX72Z5s189wv4k27oFf0R+w4gBxwAAADIBnjl0Rf8AE9tF\n",
       "fWFhwXoXyvcCst3cxyyIXO3OWtbBQGIgA2kkaFVU7sEprSCz/eCtgAAAADkBnjtqRf8AFGzO7yp/\n",
       "JJQQXFfeCNhUyIWsZVABA3/sE9bYPOmNml3c0GaQdx7P3sSlK4ACgXMKA/MAAAB7QZogSahBbJlM\n",
       "CE///fEAAOzgv/stTDwAy7RlUYkDgJv7AjfkOwXWPA307u0VTzUGEjw4hd3ZZT67J7SrtvSc72iW\n",
       "NsboCXDTFJSnxGpujVlqPCq5nY+9kgUwGck42UdeuRoIFieK9lXoQdnEII8EOlVVctVmEY2KiGpB\n",
       "AAAAQ0GeXkUVLG8AD+K64Txfn6omnK/oVViACAo99V1/QKxJ9qwGJQVnu3pkMVfAu+djQ9IG+9GW\n",
       "GWuDMqxGYGTFBxKkBswAAAAvAZ59dEX/ABR2/XkgsGH/bg+fm6Ump8WWRrDCABN/w3TNkSdmjCkQ\n",
       "+SL0V9YAf4AAAAA6AZ5/akX/ABR80hFypvA1L2MTwAH7tT5XXoZBxB94Cb1ox2dL5bCzu3oWL0wu\n",
       "9eAN4EwO26uJjTAYEQAAAH5BmmRJqEFsmUwIR//94QABfqRHEUz/4MAd9LJiNgC0bt8Sdvq/4pdP\n",
       "+DJbo+3emRtL4hFTKcR2KOilL+Ep8tEAA1H1UZZklfHgvr7kNDC3Vy+giwmgnY2RHQAgknC3bu3W\n",
       "KTBA1oSLQPQ/Ex0lLCM4wPjrJgZEAh7sFOjCikgAAAA8QZ6CRRUsbwAP5ct+O+ngAHtdXzffCfbi\n",
       "w8yUlAuF/5sapBkJXc59DLC6e05IcPw/+loGVgKkobUB5hnxAAAAMQGeoXRF/wAUbBOUf3QAgneO\n",
       "RdnXjdbRwX4r8Au9Gh+zI/A/siMT7wpv2dsV9e6QqkgAAAAgAZ6jakX/ABRtq/WFzKMtYl/SMMHc\n",
       "e2BLJma7GZULo9MAAAAnQZqlSahBbJlMCE///fEAAOeSEFiZUdxW79MAAjGm86cPhMUn5MvBAAAA\n",
       "V0GayEnhClJlMCE//fEAAOdcdY6gB7mhSMPya7kHPDlmecj7Yo4OQa2VAHKcw7SH2MYloNudVew+\n",
       "o2ufiwS310zMzTGq6T501NlJNrlh8IdOGFOIEa4FfQAAACVBnuZFNExfABPq8+xZuLRQRTblFu20\n",
       "jtofAC0i7UB7woUOcFFBAAAAKwGfB2pF/wAT6vT1aAD32ufUGPrPC1xbOQxId+DNTClxt81HZEq3\n",
       "OQeEwsoAAABnQZsMSahBaJlMCE///fEAAOHcp2+Tji6PZtz+ScqReYUAFekkRuoSexWmjCNYv+TP\n",
       "82Wm6u4NkGz0o/WEvAJo7C4Im5LaSzZOUIruNd2tH/ZvD4vEhx9WWSRP3EYM27IvYT2OO/gtoAAA\n",
       "AClBnypFESxvAA8qXgw6xhfRS4NERxvveM6f2CnTK5+URoSB5NTxhBy2gQAAAC0Bn0l0Rf8AE0/V\n",
       "y7bMOdWftQrwAICN8bMNHy4gPJynOaj/hS03cNziD+EerYAAAAAjAZ9LakX/ABNSSPWItBWra43j\n",
       "TtVEiI3COlpGGPToyiH0V8AAAAAyQZtQSahBbJlMCE///fEAAMkQeZBC8IEixoTrqdgpm6ARLPjB\n",
       "heYU8p+R8TRbi6O6jk0AAAApQZ9uRRUsbwAO0p4scwj9a+J629XbJx0tqrQAscdhf8vsq9VQZzVr\n",
       "kVMAAAAlAZ+NdEX/ABLSc2OFVgbFCs+6IASeR7JRshaci9j0wNBTlX4ypwAAAB0Bn49qRf8AEtMO\n",
       "Bqva92xUV/p3xDEy1H8vmSYwIAAAAEdBm5JJqEFsmUwUTCf//fEAAOHdLVReZGRrIAGyN7glkTUA\n",
       "91VkX1EG/2FSQ94n+4UAtCQ7D1lu3hPonH4aTzG3AhyxNNxsXAAAACABn7FqRf8AE1MLCoYy5wf0\n",
       "PMLsAvfyq7TsVi86ywSDgQAAAF9Bm7ZJ4QpSZTAhP/3xAADh27a3s4gOAWtYULA/yNJgAN6FD8Xe\n",
       "P+KTX1qHrGclqThkp3ALXI2SCm/pYzyptw/Gmx+dVJQ4uuHl8f8HniZbvN41oHLjYBCfpaZxLg4x\n",
       "oAAAAD5Bn9RFNExvAA8qSphtll3GIuSABG4PvroOl1LJthwfpIXGBd9ijTjNuFG60KHdOWe09RGz\n",
       "YW1bSSlzmJAO6AAAACsBn/N0Rf8AE1AtrrOu0kTn3Qp6OgA/abbRgTepXEToCjSwQVhq6RHAXBvR\n",
       "AAAAHQGf9WpF/wATUlf2dLP6h+8LWj5PDcti8DGImNtSAAAAjUGb+kmoQWiZTAhP//3xAADnkjdT\n",
       "KADZG0Ru9eXcczKn4xT3jfwquaOeXw/ekmJ1tN2QqO4UWVgrNoke17wBUrTSsFVug4/kZPBDQAXF\n",
       "WxM9chDKEd0hWhtsl+z7MeLEKmhw17qtoVnRIGZyY6jf0iF2DIdlO1s2JmGJ3L4CC3UJytxGLzqT\n",
       "HTdf22BhlwAAADZBnhhFESxvAA+LtZC+ezABD0KC0cDrlD79TAATXONJ2Hfa5Tni2MwWbeldDGQI\n",
       "p7sr2uczgdMAAAApAZ43dEX/ABNfVomokaF8opSy4v1ZBwADWs9ij+UgExwWPKGOPPtSJIAAAAA8\n",
       "AZ45akX/ABPc0LeABMXaGEknVCBPhQiiAwpsjNGbMb47HN36YZs2ipKrxL+DBN9WQ91285/ysfMK\n",
       "VQEvAAAAgkGaPkmoQWyZTAhP//3xAADs3DIsoAXiZbjaFUKLustGR4722ri1OpUxakluNzYWWNbD\n",
       "s2Ei8NNccagvOaVoT0muaCRmS3SkyZT+zXtGDAQMPe7sWdiI5iw7EL9f9Ge92hu2BO98bVOCncjI\n",
       "klPap3A00VhVLYCw5I5KSYb+XKPAm4AAAAA+QZ5cRRUsbwAP46x3NPy3TzfP09OOeowbzdLAMWd2\n",
       "uhQAP2t2BfXHwPAtdwPSQ9js8OWCEsNOSJ64PrvIFTEAAAA1AZ57dEX/ABPbNQnN5whrJG993v7J\n",
       "vQkfUpBCX+xl2bpZFcFO3jq1za6wAg1PnIBtHzXAOmEAAAA2AZ59akX/ABR8zr3h5CJ4bqbp/gDs\n",
       "1cMKZJZhcAT9prkmgBj85WrQiS9EAAQN/3wh+sZ+AD/AAAAAfUGaYkmoQWyZTAhH//3hAAF9Eg16\n",
       "+H2gBDQKzaBC5FvEpi3OmEBCuZUJXcbiYSAuLdF9oDLj/rE+Y3JM5bI19lUxbRSqyX1P8Jl2edDG\n",
       "BYJImu3EU6NRHdpi9otmlwu07/10FF2CLlw4YvSqO0S5qnyROlvZOpW7nj1KkqGpAAAAKkGegEUV\n",
       "LG8AD9yeZQMUNzi31tjL2ApEWrMxsY2DbmvT2nkDFmsLBBwc0QAAADkBnr90Rf8AFGupStdj2SYp\n",
       "KcQJPR4AEG2ll2ZxozmB2mCPvEwrCqzMoc62pNaEzbFzO5zwShtAWUAAAAAhAZ6hakX/ABJVfaD5\n",
       "/GVNluVEsw765gyAG20BZQe9z4O7AAAAPkGapEmoQWyZTBRMf/yEAAQzBs+YAqd+/rZwyEPE21pa\n",
       "QrNkvMIJ+PREPVSy1Rz7+b9yXYWa5kwZk5eSImFgAAAAFwGew2pF/wAO22Hjd+sNm3dh5mYCoUwd\n",
       "AAAAR0GaxUnhClJlMCEf/eEAAX0eEO1xwAamoPm2o4TgdvL6egdMnIZJhGFwpTjA66+PBwOCHG/q\n",
       "3B+Iu/8Mpp7g4RBK7cub9SLhAAAAS0Ga5knhDomUwIR//eEAAX0eC7NsIAA36151JLWm+mH+72xa\n",
       "WC9mD4D5pAKQKmzoSCdmNkxVq2M6DBK+t4q31sT5L6MT75ym2ypW0QAAAF1BmwdJ4Q8mUwIT//3x\n",
       "AADtEoKrJMAAb+oo02hBEoieaBj3FZdSTyPSDyqST2s5Pzy40/BLHgxe42/ZA4S7LZ5VYIMggYL9\n",
       "XP8hXFkbhwvnGwSSZ0gksRcLUs3L2N0AAAB/QZsqSeEPJlMCEf/94QABf/cJGbFYU86fBHZj9uaD\n",
       "fYxXubfYinWJlao+yEZ9Hmm787UTEwS6r4rjSFsjQBQXb6+TmgzRj38UdkBFNdbgOywIe9sjpVrJ\n",
       "hkt7wm/kYPpFzegkdv9ZmiUTH29ils08lBugnA5UStEteg0hOqsFJAAAADVBn0hFETxfABR7Q/EM\n",
       "t42tT80drvbTEhblHcyfC+xDP0b6YrGHbXfyqwATkXOfwjrFgkwY0AAAAD0Bn2lqRf8AFHF+LSO+\n",
       "2XY3ZBzDzFcAEG2ll4J8SUgrtZWxbLIszhZECpC+Ps0UUe/GQT0/6GDy0KLFEwIfAAAAgEGbbkmo\n",
       "QWiZTAhH//3hAAFzZPnooANo8kGIJZhMpXdU4WA8ZvZGSZ+vCxDZ+37BuqZWTF0F8Wa8KjTWGx/e\n",
       "y797Pn9x7+NXRnGY+xcqHt/OegZiTL2Z/9exSvq8rUrtWemFct5s4TV1xWp3gX6aBsWRXAzHPsqO\n",
       "GXWDkjnPMHdAAAAAN0GfjEURLG8AD4qVO5xZn2SCV0vc1Kq/NNQ/UNGuwAtLHosmhJVPcCfIQAE1\n",
       "E+VbdzkIXAwKJOAAAAAyAZ+rdEX/ABPsnsZ+3N274gBA9CopuvxdHQ8ex58W8LnVpHOOCc3X31TK\n",
       "pV+gQYVYYsEAAAAxAZ+takX/ABPq0gxZvFYc92Zjo2F+OLdSBomIpl80/E/Kh4EgABrtCi7wFT2J\n",
       "7tkMCQAAAHpBm7BJqEFsmUwUTH/8hAAFqSe1RgOafHyLISrGgiA4gOjveyu0Qy+sxbhxb2ooZDPw\n",
       "9T6/a/XYtl5CnQ5OmnyiZzEAqzyr5oAwZ326vcWZJtKq29eOwsA1X4jsAHe0q8N+MUFKVspxWFnC\n",
       "1gQfb/GVNnJgwMnNsk0f4QAAAD4Bn89qRf8AE+MogATsR/twiKlL44gQEq0BqUES76eP1/OR7EsT\n",
       "yzpb5jA5ktdv4drQsmzluoOrZDMIUKAUkAAAAFVBm9FJ4QpSZTAj//yEAAWHj+Jtu/mPUuQ0542A\n",
       "BT6h32r4F4XsnTdP4URXBQ/eNMaHYp7LMp2coRCY4jYQFm/fi5ycoZ9BKaf9N4sxHkDGPXQioNCA\n",
       "AAAAS0Gb8knhDomUwI///IQABYUVN/Uw/WThDhenABRAC94XLC6uV0RsiM9dq8yHz+IyWKgihZxB\n",
       "PYhKviepv5X3OGGx/M7WvUVR9DmVFwAAADdBmhNJ4Q8mUwI///yEAAWJayeLj9OQ5KiABDM+M1kG\n",
       "bhkaqP3l8gHkVroAPvq5bTDM8J0HeCNgAAAAKEGaNEnhDyZTAhH//eEAAWtqIpG19ACt43CfPwVx\n",
       "ckm1kB20VSspEygAAABCQZpVSeEPJlMCEf/94QABbPZ8UnNFhPVbSrP5tFGATpZZNgzHabq5Hv0s\n",
       "OIH6lsU4BAnO+MaBJIVwsYijus9hAzy5AAAAMUGadknhDyZTAhP//fEAANKYp7a9rTMXmABMoYS8\n",
       "VHbSVcmbQ/7u6I5B5GjWrFyeoIAAAABOQZqZSeEPJlMCL//6WAAK2HyIxIcX/fCwR4oj9EAIQnse\n",
       "OQMew0g3gb4mvn0S0SaZMwz35c4x97T+EN8jfoECWXEFfmUWv3ADYc6i84uBAAAAOEGet0URPF8A\n",
       "E18qHYMF4v52IUAIIESy4tKRTHMWj/+u3T1BEYXKKJvx4paS6kkINe5GGF/lQI+BAAAAKgGe2GpF\n",
       "/wATXfykdxfmf0lvqZz8T9kJvpgkkt9+DzWEjpiT7kdEjuwEXAAABuZliIIAC//+9q78yytHC5Uu\n",
       "HVl7s1Hy6Ely/YgwfWgAAAMAANVp5QZSk1YjvoAAHKAAb8sjfXW2Btknh8kLV8AA0DfnjjyVmhjC\n",
       "C3PcgyR/isq9YJD7INI0i+bk4QlVwqWjsVWzx78zPSQGtD/wMJPha/LHLIYhHdkBMsZf2GHbr2b+\n",
       "GkSCaHnC1MAyhgInKVy7wl1eQ1majM8fSOrKD1btRJM167fOp92wt03m2scYLFFjXmDF8KDFFR/t\n",
       "BznAltQV0NVOJqZ/BO3zDE/Rnd1Y/1tdjduIMiWHajNBhoIyUw401SiGRGPVoEykt/I+l5EopKki\n",
       "4pU7UMG3088rQXq1+3v33Xj7tx2DnKRbUzao1K8F70p/lv+6kIOsefQR6oxsZ/AtHy0al4Ene8DR\n",
       "29n2SYuuhEmjhEvGCtsXXP62nCBHjeI+xLer9BuMXNzxGOdQYE46jA05w4rBT1BkgcidvtxXqO5V\n",
       "rShwewZqbCdWfbu3BYmWEc+cmwphHPlMWlLi4SpFdZgjcMGRBY2GGejx4Llow/gxmQ0OBDrdcFsv\n",
       "oU4kGSkrxA0SqOxyQvW8Zjc/zaRFkkEoB/wscomrqAxim+HkH4wi1+hq6myEAqVkVcE4nhqSVKPc\n",
       "J8j6qbVCCznRHM0J94V5POEXRd5TByRgTxjue8b3xUDUscR/ZD4/R3q6KmSk8E8ihZrAnMd2/WdT\n",
       "4TWZ+fpQjaslh7mSl2Rc6MDVehRGRYlrOtJej/kjB2BEGdHWcOe7trt8LijZGv012VHJCvdmYxz/\n",
       "FajuZs86NZjLh0sqLsaeERwJ9Yr0MX1qjWjXgjKpFg61AEzWMpHZwkrNZqLDTZzaKRpSf67gFklL\n",
       "8b7+i9g5gHds8vRr3O5zZi3kA1fXaJ0CRVeK/6sg5wij+C2vcHmcqJaJ0vXyfueo9SpD0fM6Kmy0\n",
       "lVzsUvwX02dgk2brZStehAbEagt4/9lzEtuJr/EQQUQGqIpjQFWcmz2b0Wn8eSicCSdAa60AQ9ig\n",
       "pgG0DFZosVBXxz+Y9Mu+xy0aT3HzYlURnJ/yNU9fjH+UBnzWQf1kpYAeLzSatGyYBEpJEd43Zqem\n",
       "MtDDwigb4SD7uFWfV94aAqZPB5uGc4x6iMeOCKTCCcjON8uBe0xsSsmuXmGFAR2ilsHGtmNZqPPs\n",
       "U1TTMORrOQ+XuNAqT0d0fk+NAkQC6X8tfs4vUQlj2sDhjg6GvFEN0GCif0Wrx4jdZlrzbdxVwgX/\n",
       "JPDCS8JByg2TTtgpF69iXTnUrMGmSiTEsLAJ93a5KcCAPUYaxgN4sNEDv7PKPM5MDCpTrVkqu14c\n",
       "p6JJSzwGPqpZCefPsYtzM9rRClPga3TDmH9WsHYYt6YEbNjaGkSHE79MeyS3c5lvdWvVnh83jTFL\n",
       "2+0Mqng82nl8Og7dkgxHD6w2c0rj8iVXNj8xCthq1zWD12z5IZQChmpBDsh8efDN1s2Y3gr3uU2i\n",
       "Zz/3pPooZZ0/B5e4PeRfw6LEHRg+qPBfvotRCVgTmXDERraIRzqRMoaARPwrmnUwI/kmYzXlsrMM\n",
       "VTPJL1OKA5kmueKGi6H00WqPCQXhdxynKU1Sq46uOQrzwvYzwSCTA+NaBdFejN6+CxGKepYjARAT\n",
       "ATcLQ6CVQ79+Y9d9W89N4WT8zUGptc+YveHD8Trvfq/MQBjL4fXZr4v4/+sIdiz/0E5B7hwAszN4\n",
       "5oM+EX8wwhL8fRGW80Qf/ieY26xQf5QML0dh9oRQBQC62e92BG7Bf4xyG51QcmhIE2vTIRUBafcK\n",
       "nHywGiHHmG45pfFXpx3+TqmlS46SBDgPyfkCSVxQps9LuD11w7kbqJJL19Zn1dHPAWOlERNFtd8i\n",
       "l9LaGTMIfq1WSa3PtlRrrIvjjDIXUzQ7Yr351ZzzoSMBZ9a1RfIaQoaJH3ExfBSP2JgMjsqxl88G\n",
       "vCEdsLwQ1ugDhsbnCKTjvhyBt5Zpcs03n4Kmjhij6ieSUJ+GYXBUa7bbxBHQgQgLJgE2vBqdqD8a\n",
       "ATj47fadvJTK9bTDejUFq1s34PPhF/o88kWXxO82/kTR/+XWZ75NAnyouVZs3NU2jRk5zn0XIDq7\n",
       "I+LXYy6BNP6r3nT5jG7cEAkQOWfnc2Ugf/OaBtv5rdxx1RlGXJIbWQqIWSXHaQkdeEVK3mf8LAHf\n",
       "UCBmsCqNF7m9TxcsEV+opPqHbAadG4FiocUqTteebi/QaQfS/BwCJs4OtoiuZhEkn/kP0h6oQMG6\n",
       "da2lt45iHLp37KVDOIlrfVDftiVjmRe7jdc0ZHJEdsa/UIojzE54mkTQDLxnkFeqHwctjohDppDb\n",
       "EOuMUKHbivwsyiXf8rxUdn4AEjCKCvGIkyAAAAMAAAMAAAMAAAMCHwAAAGpBmiNsR//8hAAFhctT\n",
       "bNtUWt30R8JWb7MAEtCxXpJY9LUPsbiwofGEvziA+1Sxvm3r9tJqOEZmkc81thM5R4NKYxml4Qma\n",
       "p2TMABmlJ0n925Bdru1XO3DA8qGabRziZ5wshOtoKFz3p662AAAAN0GeQXiL/wATX8w/wbAR7mnV\n",
       "K1KPLUOVzc+3RUAJPI8aAbXK1rPF35VPS9PELnvlCv1iI6+wAesAAAAoAZ5iakX/ABNSV/Z0nyk/\n",
       "vL3QmRT0A58sBzQDpHlbefZLyoe7erdaMQAAAE9BmmVJqEFomUwU8X/6WAAK2D5HBGTm1ZSFtS/r\n",
       "VUwwktVVAjgAGu0K4DIzExcwLNwqfFQyEzSuw1Y5NOk3fDsGsTbcFPJpEJbo3+SqH4HAAAAAOgGe\n",
       "hGpF/wATXbkQWVpqsyPpqBCuLOuTfhIGHhzLphMhVMjvA9nxogAIcPJbYO3JwKJv4FkHw8rVQrYA\n",
       "AA4qbW9vdgAAAGxtdmhkAAAAAAAAAAAAAAAAAAAD6AAACgAAAQAAAQAAAAAAAAAAAAAAAAEAAAAA\n",
       "AAAAAAAAAAAAAAABAAAAAAAAAAAAAAAAAABAAAAAAAAAAAAAAAAAAAAAAAAAAAAAAAAAAAAAAAAA\n",
       "AgAADVR0cmFrAAAAXHRraGQAAAADAAAAAAAAAAAAAAABAAAAAAAACgAAAAAAAAAAAAAAAAAAAAAA\n",
       "AAEAAAAAAAAAAAAAAAAAAAABAAAAAAAAAAAAAAAAAABAAAAAAbAAAAEgAAAAAAAkZWR0cwAAABxl\n",
       "bHN0AAAAAAAAAAEAAAoAAAABAAABAAAAAAzMbWRpYQAAACBtZGhkAAAAAAAAAAAAAAAAAAAyAAAA\n",
       "gABVxAAAAAAALWhkbHIAAAAAAAAAAHZpZGUAAAAAAAAAAAAAAABWaWRlb0hhbmRsZXIAAAAMd21p\n",
       "bmYAAAAUdm1oZAAAAAEAAAAAAAAAAAAAACRkaW5mAAAAHGRyZWYAAAAAAAAAAQAAAAx1cmwgAAAA\n",
       "AQAADDdzdGJsAAAAs3N0c2QAAAAAAAAAAQAAAKNhdmMxAAAAAAAAAAEAAAAAAAAAAAAAAAAAAAAA\n",
       "AbABIABIAAAASAAAAAAAAAABAAAAAAAAAAAAAAAAAAAAAAAAAAAAAAAAAAAAAAAAAAAAGP//AAAA\n",
       "MWF2Y0MBZAAf/+EAGGdkAB+s2UGwloQAAAMABAAAAwMgPGDGWAEABmjr48siwAAAABx1dWlka2hA\n",
       "8l8kT8W6OaUbzwMj8wAAAAAAAAAYc3R0cwAAAAAAAAABAAABAAAAAIAAAAAYc3RzcwAAAAAAAAAC\n",
       "AAAAAQAAAPsAAAcIY3R0cwAAAAAAAADfAAAAAQAAAQAAAAABAAACgAAAAAEAAAEAAAAAAQAAAAAA\n",
       "AAABAAAAgAAAAAEAAAKAAAAAAQAAAQAAAAABAAAAAAAAAAEAAACAAAAAAQAAAgAAAAACAAAAgAAA\n",
       "AAEAAAEAAAAAAQAAAoAAAAABAAABAAAAAAEAAAAAAAAAAQAAAIAAAAABAAACgAAAAAEAAAEAAAAA\n",
       "AQAAAAAAAAABAAAAgAAAAAEAAAEAAAAAAQAAAoAAAAABAAABAAAAAAEAAAAAAAAAAQAAAIAAAAAC\n",
       "AAABAAAAAAEAAAGAAAAAAQAAAIAAAAABAAACAAAAAAIAAACAAAAAAQAAAoAAAAABAAABAAAAAAEA\n",
       "AAAAAAAAAQAAAIAAAAABAAABAAAAAAEAAAGAAAAAAQAAAIAAAAABAAACgAAAAAEAAAEAAAAAAQAA\n",
       "AAAAAAABAAAAgAAAAAEAAAIAAAAAAgAAAIAAAAAEAAABAAAAAAEAAAKAAAAAAQAAAQAAAAABAAAA\n",
       "AAAAAAEAAACAAAAAAQAAAQAAAAABAAACgAAAAAEAAAEAAAAAAQAAAAAAAAABAAAAgAAAAAEAAAKA\n",
       "AAAAAQAAAQAAAAABAAAAAAAAAAEAAACAAAAAAQAAAYAAAAABAAAAgAAAAAMAAAEAAAAAAQAAAoAA\n",
       "AAABAAABAAAAAAEAAAAAAAAAAQAAAIAAAAABAAACAAAAAAIAAACAAAAAAQAAAQAAAAABAAACgAAA\n",
       "AAEAAAEAAAAAAQAAAAAAAAABAAAAgAAAAAEAAAKAAAAAAQAAAQAAAAABAAAAAAAAAAEAAACAAAAA\n",
       "AQAAAoAAAAABAAABAAAAAAEAAAAAAAAAAQAAAIAAAAABAAABAAAAAAEAAAKAAAAAAQAAAQAAAAAB\n",
       "AAAAAAAAAAEAAACAAAAAAQAAAoAAAAABAAABAAAAAAEAAAAAAAAAAQAAAIAAAAABAAACgAAAAAEA\n",
       "AAEAAAAAAQAAAAAAAAABAAAAgAAAAAEAAAIAAAAAAgAAAIAAAAAHAAABAAAAAAEAAAIAAAAAAgAA\n",
       "AIAAAAABAAABAAAAAAEAAAKAAAAAAQAAAQAAAAABAAAAAAAAAAEAAACAAAAAAQAAAoAAAAABAAAB\n",
       "AAAAAAEAAAAAAAAAAQAAAIAAAAABAAACgAAAAAEAAAEAAAAAAQAAAAAAAAABAAAAgAAAAAEAAAIA\n",
       "AAAAAgAAAIAAAAABAAABgAAAAAEAAACAAAAAAQAAAoAAAAABAAABAAAAAAEAAAAAAAAAAQAAAIAA\n",
       "AAABAAABAAAAAAEAAAGAAAAAAQAAAIAAAAABAAABAAAAAAEAAAKAAAAAAQAAAQAAAAABAAAAAAAA\n",
       "AAEAAACAAAAAAwAAAQAAAAABAAACgAAAAAEAAAEAAAAAAQAAAAAAAAABAAAAgAAAAAEAAAKAAAAA\n",
       "AQAAAQAAAAABAAAAAAAAAAEAAACAAAAAAQAAAoAAAAABAAABAAAAAAEAAAAAAAAAAQAAAIAAAAAB\n",
       "AAACgAAAAAEAAAEAAAAAAQAAAAAAAAABAAAAgAAAAAEAAAGAAAAAAQAAAIAAAAABAAACgAAAAAEA\n",
       "AAEAAAAAAQAAAAAAAAABAAAAgAAAAAEAAAIAAAAAAgAAAIAAAAABAAABgAAAAAEAAACAAAAAAQAA\n",
       "AYAAAAABAAAAgAAAAAEAAAKAAAAAAQAAAQAAAAABAAAAAAAAAAEAAACAAAAAAQAAAoAAAAABAAAB\n",
       "AAAAAAEAAAAAAAAAAQAAAIAAAAABAAACgAAAAAEAAAEAAAAAAQAAAAAAAAABAAAAgAAAAAEAAAKA\n",
       "AAAAAQAAAQAAAAABAAAAAAAAAAEAAACAAAAAAQAAAoAAAAABAAABAAAAAAEAAAAAAAAAAQAAAIAA\n",
       "AAABAAABAAAAAAEAAAIAAAAAAgAAAIAAAAABAAACgAAAAAEAAAEAAAAAAQAAAAAAAAABAAAAgAAA\n",
       "AAEAAAKAAAAAAQAAAQAAAAABAAAAAAAAAAEAAACAAAAAAQAAAYAAAAABAAAAgAAAAAEAAAKAAAAA\n",
       "AQAAAQAAAAABAAAAAAAAAAEAAACAAAAAAQAAAoAAAAABAAABAAAAAAEAAAAAAAAAAQAAAIAAAAAB\n",
       "AAACgAAAAAEAAAEAAAAAAQAAAAAAAAABAAAAgAAAAAEAAAKAAAAAAQAAAQAAAAABAAAAAAAAAAEA\n",
       "AACAAAAAAQAAAYAAAAABAAAAgAAAAAMAAAEAAAAAAQAAAgAAAAACAAAAgAAAAAEAAAKAAAAAAQAA\n",
       "AQAAAAABAAAAAAAAAAEAAACAAAAAAQAAAYAAAAABAAAAgAAAAAYAAAEAAAAAAQAAAgAAAAACAAAA\n",
       "gAAAAAEAAAEAAAAAAQAAAgAAAAACAAAAgAAAAAEAAAGAAAAAAQAAAIAAAAAcc3RzYwAAAAAAAAAB\n",
       "AAAAAQAAAQAAAAABAAAEFHN0c3oAAAAAAAAAAAAAAQAAAAoYAAAASAAAABsAAAAYAAAAGgAAAEcA\n",
       "AAAlAAAAHAAAABsAAACvAAAALgAAABwAAABTAAAATAAAACAAAAAcAAAAFwAAAF4AAAApAAAAGwAA\n",
       "ABsAAAA9AAAAbgAAADIAAAAjAAAAIgAAAFAAAACAAAAAcgAAACsAAAB7AAAAOwAAACgAAABnAAAA\n",
       "LgAAAB0AAAAjAAAAaQAAAH0AAAAmAAAAfwAAADcAAAAuAAAAIgAAAG0AAAAmAAAAIAAAAC4AAAAy\n",
       "AAAAPgAAAFkAAABxAAAARAAAACYAAAAzAAAAVQAAAGAAAAA1AAAAMgAAACkAAACFAAAARAAAAC0A\n",
       "AAA7AAAAUgAAABsAAAApAAAAPwAAAEkAAABgAAAAKwAAACUAAAAoAAAAawAAACgAAAAtAAAAZwAA\n",
       "AHwAAAA6AAAAJQAAADIAAACGAAAARwAAAEIAAAAoAAAAgwAAAD4AAAAoAAAARAAAAFwAAABeAAAA\n",
       "KwAAACUAAAApAAAAZgAAADUAAAAjAAAAJwAAAFUAAAAvAAAALQAAACgAAAB0AAAAMQAAADwAAAB/\n",
       "AAAARgAAAC4AAAA+AAAAUAAAAEwAAAAqAAAALAAAAC8AAAAeAAAAQgAAAFwAAAAsAAAAJwAAADgA\n",
       "AABtAAAALwAAADcAAAAsAAAAbgAAAEMAAAA4AAAAJwAAAE8AAAA4AAAAIwAAAFkAAAAzAAAAfAAA\n",
       "AC8AAAA+AAAAJgAAAFUAAABkAAAAIgAAADsAAABnAAAALQAAACcAAAAyAAAAbQAAAD8AAABGAAAA\n",
       "ewAAAC0AAAAuAAAALAAAAHkAAAAwAAAALwAAACkAAAB0AAAAOAAAADcAAAAkAAAAUgAAADQAAAAn\n",
       "AAAAMQAAAEwAAAAxAAAAhgAAADEAAAAnAAAAMQAAAFwAAAA6AAAAOQAAAHcAAABDAAAAUwAAAC0A\n",
       "AAAvAAAANQAAACIAAAAgAAAAWAAAACwAAAAlAAAAOgAAAIsAAABAAAAANgAAAD0AAAB/AAAARwAA\n",
       "ADMAAAA+AAAAggAAAEAAAAA1AAAAJAAAACsAAABbAAAAKQAAAC8AAABrAAAALQAAADEAAAAnAAAA\n",
       "NgAAAC0AAAApAAAAIQAAAEsAAAAkAAAAYwAAAEIAAAAvAAAAIQAAAJEAAAA6AAAALQAAAEAAAACG\n",
       "AAAAQgAAADkAAAA6AAAAgQAAAC4AAAA9AAAAJQAAAEIAAAAbAAAASwAAAE8AAABhAAAAgwAAADkA\n",
       "AABBAAAAhAAAADsAAAA2AAAANQAAAH4AAABCAAAAWQAAAE8AAAA7AAAALAAAAEYAAAA1AAAAUgAA\n",
       "ADwAAAAuAAAG6gAAAG4AAAA7AAAALAAAAFMAAAA+AAAAFHN0Y28AAAAAAAAAAQAAACwAAABidWR0\n",
       "YQAAAFptZXRhAAAAAAAAACFoZGxyAAAAAAAAAABtZGlyYXBwbAAAAAAAAAAAAAAAAC1pbHN0AAAA\n",
       "Jal0b28AAAAdZGF0YQAAAAEAAAAATGF2ZjU3LjgzLjEwMA==\n",
       "\">\n",
       "  Your browser does not support the video tag.\n",
       "</video>"
      ],
      "text/plain": [
       "<IPython.core.display.HTML object>"
      ]
     },
     "execution_count": 21,
     "metadata": {},
     "output_type": "execute_result"
    },
    {
     "data": {
      "image/png": "[encoded data removed]",
      "text/plain": [
       "<Figure size 432x288 with 1 Axes>"
      ]
     },
     "metadata": {},
     "output_type": "display_data"
    }
   ],
   "source": [
    "ntimesteps = soln.t.shape[-1] # if all blocks are solved with same ntimesteps\n",
    "\n",
    "fig = plt.figure()\n",
    "ax = fig.add_subplot(111, autoscale_on=True, xlim=(-d / 2, d * (N + 1)), ylim=(-1,1)) # modified xlim for other d.\n",
    "ax.set_aspect('equal')\n",
    "ax.grid()\n",
    "\n",
    "line, = ax.plot([], [], 'o-', lw=2, markersize=14)\n",
    "\n",
    "import matplotlib.animation as animation\n",
    "\n",
    "def init():\n",
    "    line.set_data([], [])\n",
    "    return line,\n",
    "\n",
    "\n",
    "NN = 2 ** 4 # display only every NN frames\n",
    "def animate(i):\n",
    "    line.set_data(soln.y[:N,i * NN].reshape(N,) ,np.zeros(N))\n",
    "    return line,\n",
    "\n",
    "ani = animation.FuncAnimation(fig, animate, ntimesteps // NN,\n",
    "                            interval=10, repeat=True,\n",
    "                            blit=True, init_func=init)\n",
    "import matplotlib\n",
    "print(matplotlib.__version__)\n",
    "\n",
    "print('writing to GIF')\n",
    "ani.save('vdp_springs.gif', writer='imagemagick')\n",
    "print('..done.')\n",
    "\n",
    "print('rendering HTML')\n",
    "from IPython.display import HTML\n",
    "HTML(ani.to_html5_video())\n",
    "print('..done.')"
   ]
  },
  {
   "cell_type": "code",
   "execution_count": 15,
   "metadata": {},
   "outputs": [
    {
     "data": {
      "text/plain": [
       "'\\nCode for adding noise to a single harmonic oscillator...\\n'"
      ]
     },
     "execution_count": 15,
     "metadata": {},
     "output_type": "execute_result"
    }
   ],
   "source": [
    "'''\n",
    "Code for adding noise to a single harmonic oscillator...\n",
    "'''"
   ]
  },
  {
   "cell_type": "code",
   "execution_count": 2,
   "metadata": {},
   "outputs": [
    {
     "data": {
      "text/plain": [
       "[<matplotlib.lines.Line2D at 0x7f4975e8b198>]"
      ]
     },
     "execution_count": 2,
     "metadata": {},
     "output_type": "execute_result"
    },
    {
     "data": {
      "image/png": "[encoded data removed]",
      "text/plain": [
       "<Figure size 432x288 with 1 Axes>"
      ]
     },
     "metadata": {},
     "output_type": "display_data"
    }
   ],
   "source": [
    "# How well does simulated annealing fit the spring constant for a simple harmonic oscillator?\n",
    "# Adapted from material from March 24, 2019.\n",
    "\n",
    "# Simplest possible test case..\n",
    "# We know that for k=1, a single spring satisfies the equation\n",
    "# y'' = -y\n",
    "# which solves to sin(t) given an initial condition [0, 1]\n",
    "# so why don't we use the curve y(t) = sin(t) as our 'data - to - fit' curve?\n",
    "\n",
    "# will we also have to fit the initial condition?\n",
    "# this gives us three parameters to estimate...\n",
    "# Well, why don't we say that the initial condition can be fit pretty well\n",
    "# because of our lab measurement.\n",
    "\n",
    "T = np.linspace(0, np.pi * 2, 20) # number of datapoints is N\n",
    "Y = np.sin(T)\n",
    "\n",
    "absolute_noise_limit = 0.05\n",
    "\n",
    "percent_noise = 0.05\n",
    "relative_noise_limit = percent_noise * Y \n",
    "\n",
    "# remember: multiplying by noise changes the stddev.\n",
    "noise = np.random.randn(Y.shape[0]) * absolute_noise_limit\n",
    "\n",
    "noisy_data = Y + np.hstack(([0], noise[1:]))\n",
    "\n",
    "plt.plot(T, Y, 'o-')\n",
    "plt.plot(T, noisy_data, 'o')\n"
   ]
  },
  {
   "cell_type": "code",
   "execution_count": 3,
   "metadata": {},
   "outputs": [],
   "source": [
    "'''\n",
    "# Sample code from the doc on least_squares.\n",
    "\n",
    "y_train = gen_data(t_train, a, b, c, noise=0.1, n_outliers=3)\n",
    "\n",
    "def fun(x, t, y):\n",
    "    return x[0] + x[1] * np.exp(x[2] * t) - y\n",
    "\n",
    "x0 = np.array([1.0, 1.0, 0.0])\n",
    "\n",
    "res_lsq = least_squares(fun, x0, args=(t_train, y_train))\n",
    "\n",
    "'''\n",
    "\n",
    "k_guess = 1.17\n",
    "IC = [k_guess]\n",
    "\n",
    "\n",
    "\n",
    "def solve_harmonic_oscillator(params, T, Y):\n",
    "    k = params[0]\n",
    "    F = lambda t, x: [x[1], \n",
    "                  - k * x[0]]\n",
    "    IC = Y[0], 1. # pretend we also have an exact velocity reading\n",
    "    soln = solve_ivp(F, [T[0], T[-1]], IC,\n",
    "                t_eval=T)\n",
    "    \n",
    "    return soln.y[0,:] - Y"
   ]
  },
  {
   "cell_type": "code",
   "execution_count": 4,
   "metadata": {},
   "outputs": [
    {
     "name": "stdout",
     "output_type": "stream",
     "text": [
      "[0.9966897]\n",
      "N function evals: 5\n",
      "CPU times: user 41.3 ms, sys: 49.7 ms, total: 91 ms\n",
      "Wall time: 43.5 ms\n"
     ]
    }
   ],
   "source": [
    "%%time\n",
    "\n",
    "res_lsq = least_squares(solve_harmonic_oscillator, IC, args=(T, noisy_data))\n",
    "\n",
    "k_found = res_lsq.x\n",
    "\n",
    "print(k_found)\n",
    "print(f'N function evals: {res_lsq.nfev}')"
   ]
  },
  {
   "cell_type": "code",
   "execution_count": 5,
   "metadata": {},
   "outputs": [
    {
     "data": {
      "text/plain": [
       "[<matplotlib.lines.Line2D at 0x7f4973d8bf28>]"
      ]
     },
     "execution_count": 5,
     "metadata": {},
     "output_type": "execute_result"
    },
    {
     "data": {
      "image/png": "[encoded data removed]",
      "text/plain": [
       "<Figure size 432x288 with 1 Axes>"
      ]
     },
     "metadata": {},
     "output_type": "display_data"
    }
   ],
   "source": [
    "F = lambda t, x: [x[1], \n",
    "                  - k_found * x[0]]\n",
    "\n",
    "IC = [0., 1.]\n",
    "soln = solve_ivp(F, [T[0], T[-1]], IC,\n",
    "            t_eval=T)\n",
    "\n",
    "plt.plot(T, Y, '-')\n",
    "plt.plot(T, noisy_data, 'o')\n",
    "plt.plot(soln.t, soln.y[0,:],'o-') # hey, this is a great fit!"
   ]
  },
  {
   "cell_type": "code",
   "execution_count": 6,
   "metadata": {},
   "outputs": [],
   "source": [
    "# same as above, but normed last line.\n",
    "\n",
    "def solve_harmonic_oscillator(params):\n",
    "    global T\n",
    "    Y = noisy_data\n",
    "    \n",
    "    k = params[0]\n",
    "    F = lambda t, x: [x[1], \n",
    "                  - k * x[0]]\n",
    "    IC = Y[0], 1. # pretend we also have an exact velocity reading\n",
    "    soln = solve_ivp(F, [T[0], T[-1]], IC,\n",
    "                t_eval=T)\n",
    "    \n",
    "    return np.sum((soln.y[0,:] - Y) ** 2)"
   ]
  },
  {
   "cell_type": "code",
   "execution_count": 8,
   "metadata": {},
   "outputs": [
    {
     "name": "stdout",
     "output_type": "stream",
     "text": [
      "27\n",
      "     fun: 0.04350712633561511\n",
      " message: ['Maximum number of iteration reached']\n",
      "    nfev: 27\n",
      "    nhev: 0\n",
      "     nit: 5\n",
      "    njev: 0\n",
      "       x: array([0.99668966])\n",
      "CPU times: user 56.7 ms, sys: 1.35 ms, total: 58 ms\n",
      "Wall time: 60.4 ms\n"
     ]
    }
   ],
   "source": [
    "%%time\n",
    "\n",
    "ret = dual_annealing(solve_harmonic_oscillator, list(zip([0], [3])),\n",
    "                    maxiter=5)\n",
    "\n",
    "print(ret.nfev)\n",
    "\n",
    "# weird... for this question, dual annealing seems to actually do very well for even a low number of iterations.\n",
    "\n",
    "print(ret)\n"
   ]
  },
  {
   "cell_type": "code",
   "execution_count": null,
   "metadata": {},
   "outputs": [],
   "source": [
    "'''\n",
    "Okay, probably time to move onto\n",
    "the next part of this project.\n",
    "\n",
    "'''"
   ]
  },
  {
   "cell_type": "code",
   "execution_count": null,
   "metadata": {},
   "outputs": [],
   "source": []
  }
 ],
 "metadata": {
  "kernelspec": {
   "display_name": "Python 3",
   "language": "python",
   "name": "python3"
  },
  "language_info": {
   "codemirror_mode": {
    "name": "ipython",
    "version": 3
   },
   "file_extension": ".py",
   "mimetype": "text/x-python",
   "name": "python",
   "nbconvert_exporter": "python",
   "pygments_lexer": "ipython3",
   "version": "3.6.8"
  }
 },
 "nbformat": 4,
 "nbformat_minor": 2
}
